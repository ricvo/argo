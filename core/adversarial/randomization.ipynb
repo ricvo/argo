{
 "cells": [
  {
   "cell_type": "code",
   "execution_count": 1,
   "metadata": {},
   "outputs": [
    {
     "name": "stderr",
     "output_type": "stream",
     "text": [
      "/data1/env/tf1.14.0/lib/python3.6/site-packages/tensorflow/python/framework/dtypes.py:516: FutureWarning: Passing (type, 1) or '1type' as a synonym of type is deprecated; in a future version of numpy, it will be understood as (type, (1,)) / '(1,)type'.\n",
      "  _np_qint8 = np.dtype([(\"qint8\", np.int8, 1)])\n",
      "/data1/env/tf1.14.0/lib/python3.6/site-packages/tensorflow/python/framework/dtypes.py:517: FutureWarning: Passing (type, 1) or '1type' as a synonym of type is deprecated; in a future version of numpy, it will be understood as (type, (1,)) / '(1,)type'.\n",
      "  _np_quint8 = np.dtype([(\"quint8\", np.uint8, 1)])\n",
      "/data1/env/tf1.14.0/lib/python3.6/site-packages/tensorflow/python/framework/dtypes.py:518: FutureWarning: Passing (type, 1) or '1type' as a synonym of type is deprecated; in a future version of numpy, it will be understood as (type, (1,)) / '(1,)type'.\n",
      "  _np_qint16 = np.dtype([(\"qint16\", np.int16, 1)])\n",
      "/data1/env/tf1.14.0/lib/python3.6/site-packages/tensorflow/python/framework/dtypes.py:519: FutureWarning: Passing (type, 1) or '1type' as a synonym of type is deprecated; in a future version of numpy, it will be understood as (type, (1,)) / '(1,)type'.\n",
      "  _np_quint16 = np.dtype([(\"quint16\", np.uint16, 1)])\n",
      "/data1/env/tf1.14.0/lib/python3.6/site-packages/tensorflow/python/framework/dtypes.py:520: FutureWarning: Passing (type, 1) or '1type' as a synonym of type is deprecated; in a future version of numpy, it will be understood as (type, (1,)) / '(1,)type'.\n",
      "  _np_qint32 = np.dtype([(\"qint32\", np.int32, 1)])\n",
      "/data1/env/tf1.14.0/lib/python3.6/site-packages/tensorflow/python/framework/dtypes.py:525: FutureWarning: Passing (type, 1) or '1type' as a synonym of type is deprecated; in a future version of numpy, it will be understood as (type, (1,)) / '(1,)type'.\n",
      "  np_resource = np.dtype([(\"resource\", np.ubyte, 1)])\n",
      "/data1/env/tf1.14.0/lib/python3.6/site-packages/tensorboard/compat/tensorflow_stub/dtypes.py:541: FutureWarning: Passing (type, 1) or '1type' as a synonym of type is deprecated; in a future version of numpy, it will be understood as (type, (1,)) / '(1,)type'.\n",
      "  _np_qint8 = np.dtype([(\"qint8\", np.int8, 1)])\n",
      "/data1/env/tf1.14.0/lib/python3.6/site-packages/tensorboard/compat/tensorflow_stub/dtypes.py:542: FutureWarning: Passing (type, 1) or '1type' as a synonym of type is deprecated; in a future version of numpy, it will be understood as (type, (1,)) / '(1,)type'.\n",
      "  _np_quint8 = np.dtype([(\"quint8\", np.uint8, 1)])\n",
      "/data1/env/tf1.14.0/lib/python3.6/site-packages/tensorboard/compat/tensorflow_stub/dtypes.py:543: FutureWarning: Passing (type, 1) or '1type' as a synonym of type is deprecated; in a future version of numpy, it will be understood as (type, (1,)) / '(1,)type'.\n",
      "  _np_qint16 = np.dtype([(\"qint16\", np.int16, 1)])\n",
      "/data1/env/tf1.14.0/lib/python3.6/site-packages/tensorboard/compat/tensorflow_stub/dtypes.py:544: FutureWarning: Passing (type, 1) or '1type' as a synonym of type is deprecated; in a future version of numpy, it will be understood as (type, (1,)) / '(1,)type'.\n",
      "  _np_quint16 = np.dtype([(\"quint16\", np.uint16, 1)])\n",
      "/data1/env/tf1.14.0/lib/python3.6/site-packages/tensorboard/compat/tensorflow_stub/dtypes.py:545: FutureWarning: Passing (type, 1) or '1type' as a synonym of type is deprecated; in a future version of numpy, it will be understood as (type, (1,)) / '(1,)type'.\n",
      "  _np_qint32 = np.dtype([(\"qint32\", np.int32, 1)])\n",
      "/data1/env/tf1.14.0/lib/python3.6/site-packages/tensorboard/compat/tensorflow_stub/dtypes.py:550: FutureWarning: Passing (type, 1) or '1type' as a synonym of type is deprecated; in a future version of numpy, it will be understood as (type, (1,)) / '(1,)type'.\n",
      "  np_resource = np.dtype([(\"resource\", np.ubyte, 1)])\n"
     ]
    },
    {
     "name": "stdout",
     "output_type": "stream",
     "text": [
      "WARNING:tensorflow:From /data1/env/tf1.14.0/lib/python3.6/site-packages/sonnet/python/custom_getters/restore_initializer.py:27: The name tf.GraphKeys is deprecated. Please use tf.compat.v1.GraphKeys instead.\n",
      "\n",
      "WARNING:tensorflow:\n",
      "The TensorFlow contrib module will not be included in TensorFlow 2.0.\n",
      "For more information, please see:\n",
      "  * https://github.com/tensorflow/community/blob/master/rfcs/20180907-contrib-sunset.md\n",
      "  * https://github.com/tensorflow/addons\n",
      "  * https://github.com/tensorflow/io (for I/O related ops)\n",
      "If you depend on functionality not listed there, please file an issue.\n",
      "\n",
      "WARNING:tensorflow:From /home/deliaed/adversarial/core/argo/core/hooks/ArgoHook.py:25: The name tf.train.SessionRunHook is deprecated. Please use tf.estimator.SessionRunHook instead.\n",
      "\n",
      " From /home/deliaed/adversarial/core/argo/core/hooks/ArgoHook.py:25: The name tf.train.SessionRunHook is deprecated. Please use tf.estimator.SessionRunHook instead.\n",
      "\n",
      "WARNING:tensorflow:From /home/deliaed/adversarial/core/argo/core/hooks/CheckpointSaverHook.py:7: The name tf.train.SessionRunArgs is deprecated. Please use tf.estimator.SessionRunArgs instead.\n",
      "\n",
      " From /home/deliaed/adversarial/core/argo/core/hooks/CheckpointSaverHook.py:7: The name tf.train.SessionRunArgs is deprecated. Please use tf.estimator.SessionRunArgs instead.\n",
      "\n",
      "WARNING:tensorflow:From /home/deliaed/adversarial/core/argo/core/hooks/CheckpointSaverHook.py:13: The name tf.train.SessionRunHook is deprecated. Please use tf.estimator.SessionRunHook instead.\n",
      "\n",
      " From /home/deliaed/adversarial/core/argo/core/hooks/CheckpointSaverHook.py:13: The name tf.train.SessionRunHook is deprecated. Please use tf.estimator.SessionRunHook instead.\n",
      "\n"
     ]
    }
   ],
   "source": [
    "import tensorflow as tf\n",
    "\n",
    "import numpy as np\n",
    "from matplotlib import pyplot as plt \n",
    "\n",
    "from datasets.Dataset import Dataset\n",
    "from core.argo.core.ArgoLauncher import ArgoLauncher\n",
    "from core.argo.core.TFDeepLearningModel import load_model, load_network\n",
    "from core.argo.core.utils.argo_utils import load_class\n",
    "from core.transform.transform import get_transform_module, check_dataset_shapes"
   ]
  },
  {
   "cell_type": "code",
   "execution_count": 2,
   "metadata": {},
   "outputs": [
    {
     "data": {
      "text/plain": [
       "[<matplotlib.lines.Line2D at 0x7f35b4ca6908>]"
      ]
     },
     "execution_count": 2,
     "metadata": {},
     "output_type": "execute_result"
    },
    {
     "data": {
      "image/png": "[encoded data removed]",
      "text/plain": [
       "<Figure size 432x288 with 1 Axes>"
      ]
     },
     "metadata": {
      "needs_background": "light"
     },
     "output_type": "display_data"
    }
   ],
   "source": [
    "plt.plot(np.arange(10))"
   ]
  },
  {
   "cell_type": "code",
   "execution_count": 3,
   "metadata": {},
   "outputs": [],
   "source": [
    "tf.set_random_seed(1000)\n",
    "\n",
    "tf.reset_default_graph()\n",
    "\n",
    "import os\n",
    "os.environ[\"CUDA_DEVICE_ORDER\"]=\"PCI_BUS_ID\"\n",
    "os.environ[\"CUDA_VISIBLE_DEVICES\"]='1'\n",
    "sess_config = tf.ConfigProto()\n",
    "sess_config.gpu_options.allow_growth=True\n",
    "sess = tf.Session(config = sess_config)"
   ]
  },
  {
   "cell_type": "code",
   "execution_count": 4,
   "metadata": {},
   "outputs": [],
   "source": [
    "# ffconffile = '/home/luigi/adversarial/prediction/temp/MNIST-c-st0/FF_st0-stp0-st0-stp0-re0.0001-bs32-trGD_lr0.05-cNo-D200_D200_D10-aR-wix-bic0.1-r0/experiment.conf'\n",
    "# ffconffile = '/data/ironman_hd1/FashionMNIST-st0/FF_st0-stp0-re0.0-bs32-trA_lr0.001_bo0.9_bt0.999-C32o3-3_C32o3-3_D200_D10-arelu-wix-bic0.1-r0/experiment.conf'\n",
    "# NB i saved the model every 20 epochs\n",
    "# 34360 # 68720 # 103080\n",
    "#ff_global_step = 68720\n",
    "ffconffile = \"/data/thor_hd1/adv_new_models/FashionMNIST-st0/FF-cCE-st0-stp0.0-bs100-trA_lr0.0001_bo0.9_bt0.999-cNo-nC32o3,3_BN_P2s2_C32o3,3_BN_P2s2_DOr0.3_C32o3,3_BN_P2s2_C32o3,3_BN_P2s2_DOr0.3_D500_D10-cpS-aR-wix-bic0.1-wrLtwo0.001-brLtwo0.001-r0/experiment.conf\"\n",
    "# ffconffile = \"/data/wonderwoman_hd3/adversarial_small/prediction/FashionMNIST-st0/FF-cCE-st2-stp0.1-bs32-trA_lrm1e-07E.i0.0001.s10000.0.r0.99_bo0.9_bt0.999-cGN100.0-nCNo64,64k3,3s2,2_D200_D10-cpS-aR-wign-bic10.0-wrLtwo0.001-r1/experiment.conf\"\n",
    "ff_global_step = None\n",
    "\n",
    "# # autoencconffile = '/home/luigi/adversarial/vae/temp/MNIST-c-st0/VAE-cELBO_b1.0_wuW5-d0-st1-stp0.01-re1e-05-bs128-trA_lr0.0001_bo0.9_bt0.999-cGN3-e_D200_D200_GDd-d_D200_D200_GD01d.scT-cpS-aE-wix-bic0.1-r0/experiment.conf'\n",
    "# # autoencconffile = '/data/ironman_hd1/FashionMNIST-st0/VAE-cELBO_b1.0_wuW5-st1-stp0.01-d0-re1e-05-bs32-trA_lr0.001_bo0.9_bt0.999-e_CN-o256-512-1024k3-3s2-2-1_GDd64-d_D50176_BR_CNT-o512-256-1k3-3s1-2-2_LNDd-cpS-arelu-wix-bic0.1-r0/experiment.conf'\n",
    "# autoencconffile = \"/data/wonderwoman_hd3/adversarial_small/vae/FashionMNIST-st0/VAE-cELBO_b1.0_wuW5-s10-d1-st2-stp0.1-bs32-trA_lrm1e-07E.i1e-04.s1e+04.r0.99_bo0.9_bt0.999-cGN100.0-ne_CNo32,32k3,3s2,2_GDd32-nd_D1568_BR_CNTo32,1k3,3s2,2_GDd-mc0.0001-cpS-aR-wign-bic10.0-wrLtwo1e-05-r0/experiment.conf\"\n",
    "# ae_global_step = None  # \n"
   ]
  },
  {
   "cell_type": "code",
   "execution_count": 5,
   "metadata": {},
   "outputs": [],
   "source": [
    "is_training = False"
   ]
  },
  {
   "cell_type": "code",
   "execution_count": 6,
   "metadata": {},
   "outputs": [
    {
     "name": "stdout",
     "output_type": "stream",
     "text": [
      "WARNING:tensorflow:From /home/deliaed/adversarial/datasets/FashionMNIST.py:159: read_data_sets (from tensorflow.contrib.learn.python.learn.datasets.mnist) is deprecated and will be removed in a future version.\n",
      "Instructions for updating:\n",
      "Please use alternatives such as official/mnist/dataset.py from tensorflow/models.\n",
      " From /home/deliaed/adversarial/datasets/FashionMNIST.py:159: read_data_sets (from tensorflow.contrib.learn.python.learn.datasets.mnist) is deprecated and will be removed in a future version.\n",
      "Instructions for updating:\n",
      "Please use alternatives such as official/mnist/dataset.py from tensorflow/models.\n",
      "WARNING:tensorflow:From /data1/env/tf1.14.0/lib/python3.6/site-packages/tensorflow/contrib/learn/python/learn/datasets/mnist.py:260: maybe_download (from tensorflow.contrib.learn.python.learn.datasets.base) is deprecated and will be removed in a future version.\n",
      "Instructions for updating:\n",
      "Please write your own downloading logic.\n",
      " From /data1/env/tf1.14.0/lib/python3.6/site-packages/tensorflow/contrib/learn/python/learn/datasets/mnist.py:260: maybe_download (from tensorflow.contrib.learn.python.learn.datasets.base) is deprecated and will be removed in a future version.\n",
      "Instructions for updating:\n",
      "Please write your own downloading logic.\n",
      "WARNING:tensorflow:From /data1/env/tf1.14.0/lib/python3.6/site-packages/tensorflow/contrib/learn/python/learn/datasets/mnist.py:262: extract_images (from tensorflow.contrib.learn.python.learn.datasets.mnist) is deprecated and will be removed in a future version.\n",
      "Instructions for updating:\n",
      "Please use tf.data to implement this functionality.\n",
      " From /data1/env/tf1.14.0/lib/python3.6/site-packages/tensorflow/contrib/learn/python/learn/datasets/mnist.py:262: extract_images (from tensorflow.contrib.learn.python.learn.datasets.mnist) is deprecated and will be removed in a future version.\n",
      "Instructions for updating:\n",
      "Please use tf.data to implement this functionality.\n",
      "Extracting /ssd_data/datasets/fashionMNIST/train-images-idx3-ubyte.gz\n",
      "WARNING:tensorflow:From /data1/env/tf1.14.0/lib/python3.6/site-packages/tensorflow/contrib/learn/python/learn/datasets/mnist.py:267: extract_labels (from tensorflow.contrib.learn.python.learn.datasets.mnist) is deprecated and will be removed in a future version.\n",
      "Instructions for updating:\n",
      "Please use tf.data to implement this functionality.\n",
      " From /data1/env/tf1.14.0/lib/python3.6/site-packages/tensorflow/contrib/learn/python/learn/datasets/mnist.py:267: extract_labels (from tensorflow.contrib.learn.python.learn.datasets.mnist) is deprecated and will be removed in a future version.\n",
      "Instructions for updating:\n",
      "Please use tf.data to implement this functionality.\n",
      "Extracting /ssd_data/datasets/fashionMNIST/train-labels-idx1-ubyte.gz\n",
      "Extracting /ssd_data/datasets/fashionMNIST/t10k-images-idx3-ubyte.gz\n",
      "Extracting /ssd_data/datasets/fashionMNIST/t10k-labels-idx1-ubyte.gz\n",
      "WARNING:tensorflow:From /data1/env/tf1.14.0/lib/python3.6/site-packages/tensorflow/contrib/learn/python/learn/datasets/mnist.py:290: DataSet.__init__ (from tensorflow.contrib.learn.python.learn.datasets.mnist) is deprecated and will be removed in a future version.\n",
      "Instructions for updating:\n",
      "Please use alternatives such as official/mnist/dataset.py from tensorflow/models.\n",
      " From /data1/env/tf1.14.0/lib/python3.6/site-packages/tensorflow/contrib/learn/python/learn/datasets/mnist.py:290: DataSet.__init__ (from tensorflow.contrib.learn.python.learn.datasets.mnist) is deprecated and will be removed in a future version.\n",
      "Instructions for updating:\n",
      "Please use alternatives such as official/mnist/dataset.py from tensorflow/models.\n",
      "WARNING:tensorflow:From /data1/env/tf1.14.0/lib/python3.6/site-packages/sonnet/python/modules/base.py:177: The name tf.make_template is deprecated. Please use tf.compat.v1.make_template instead.\n",
      "\n",
      " From /data1/env/tf1.14.0/lib/python3.6/site-packages/sonnet/python/modules/base.py:177: The name tf.make_template is deprecated. Please use tf.compat.v1.make_template instead.\n",
      "\n",
      "WARNING:tensorflow:From /home/deliaed/adversarial/prediction/core/argo/core/TFDeepLearningModel.py:163: The name tf.set_random_seed is deprecated. Please use tf.compat.v1.set_random_seed instead.\n",
      "\n",
      " From /home/deliaed/adversarial/prediction/core/argo/core/TFDeepLearningModel.py:163: The name tf.set_random_seed is deprecated. Please use tf.compat.v1.set_random_seed instead.\n",
      "\n"
     ]
    }
   ],
   "source": [
    "ff_dataset_conf, ff_model_parameters, ff_config = ArgoLauncher.process_conf_file(ffconffile)\n",
    "ff_dataset = Dataset.load_dataset(ff_dataset_conf)\n",
    "_x_shape = ff_dataset.x_shape_eval\n",
    "\n",
    "full_class_path = \"prediction.core.\" + ff_model_parameters[\"model\"]\n",
    "prediction_model_class = load_class(full_class_path)\n",
    "\n",
    "ff_network, ff_checkpoint_name = load_network(prediction_model_class, ffconffile, ff_dataset, global_step=ff_global_step)\n",
    "x_shape = (None,) + _x_shape\n",
    "\n",
    "dummy_x = tf.placeholder(tf.float32, shape=x_shape, name='dummy_input')\n"
   ]
  },
  {
   "cell_type": "code",
   "execution_count": 7,
   "metadata": {},
   "outputs": [
    {
     "name": "stdout",
     "output_type": "stream",
     "text": [
      "WARNING:tensorflow:From /data1/env/tf1.14.0/lib/python3.6/site-packages/sonnet/python/modules/base.py:278: The name tf.get_default_graph is deprecated. Please use tf.compat.v1.get_default_graph instead.\n",
      "\n",
      " From /data1/env/tf1.14.0/lib/python3.6/site-packages/sonnet/python/modules/base.py:278: The name tf.get_default_graph is deprecated. Please use tf.compat.v1.get_default_graph instead.\n",
      "\n",
      "Parsing network network...\n",
      " Loading sonnet module Conv2D\n",
      "WARNING:tensorflow:From /data1/env/tf1.14.0/lib/python3.6/site-packages/sonnet/python/modules/conv.py:134: The name tf.Dimension is deprecated. Please use tf.compat.v1.Dimension instead.\n",
      "\n",
      " From /data1/env/tf1.14.0/lib/python3.6/site-packages/sonnet/python/modules/conv.py:134: The name tf.Dimension is deprecated. Please use tf.compat.v1.Dimension instead.\n",
      "\n",
      " Loading sonnet module BatchNorm\n",
      " Loading sonnet module MaxPooling2D\n",
      "WARNING:tensorflow:From /home/deliaed/adversarial/prediction/core/argo/core/network/MaxPooling2D.py:25: max_pooling2d (from tensorflow.python.layers.pooling) is deprecated and will be removed in a future version.\n",
      "Instructions for updating:\n",
      "Use keras.layers.MaxPooling2D instead.\n",
      " From /home/deliaed/adversarial/prediction/core/argo/core/network/MaxPooling2D.py:25: max_pooling2d (from tensorflow.python.layers.pooling) is deprecated and will be removed in a future version.\n",
      "Instructions for updating:\n",
      "Use keras.layers.MaxPooling2D instead.\n",
      " Loading sonnet module Conv2D\n",
      " Loading sonnet module BatchNorm\n",
      " Loading sonnet module MaxPooling2D\n",
      " Loading sonnet module Dropout\n",
      "WARNING:tensorflow:From /home/deliaed/adversarial/prediction/core/argo/core/network/Dropout.py:52: dropout (from tensorflow.python.layers.core) is deprecated and will be removed in a future version.\n",
      "Instructions for updating:\n",
      "Use keras.layers.dropout instead.\n",
      " From /home/deliaed/adversarial/prediction/core/argo/core/network/Dropout.py:52: dropout (from tensorflow.python.layers.core) is deprecated and will be removed in a future version.\n",
      "Instructions for updating:\n",
      "Use keras.layers.dropout instead.\n",
      " Loading sonnet module Conv2D\n",
      " Loading sonnet module BatchNorm\n",
      " Loading sonnet module MaxPooling2D\n",
      " Loading sonnet module Conv2D\n",
      " Loading sonnet module BatchNorm\n",
      " Loading sonnet module MaxPooling2D\n",
      " Loading sonnet module Dropout\n",
      " Loading sonnet module BatchFlatten\n",
      " Loading sonnet module Linear\n",
      " Loading sonnet module Linear\n",
      "WARNING:tensorflow:From /home/deliaed/adversarial/prediction/core/argo/core/network/Network.py:84: The name tf.train.Saver is deprecated. Please use tf.compat.v1.train.Saver instead.\n",
      "\n",
      " From /home/deliaed/adversarial/prediction/core/argo/core/network/Network.py:84: The name tf.train.Saver is deprecated. Please use tf.compat.v1.train.Saver instead.\n",
      "\n",
      "WARNING:tensorflow:From /data1/env/tf1.14.0/lib/python3.6/site-packages/tensorflow/python/training/saver.py:1276: checkpoint_exists (from tensorflow.python.training.checkpoint_management) is deprecated and will be removed in a future version.\n",
      "Instructions for updating:\n",
      "Use standard file APIs to check for files with this prefix.\n",
      " From /data1/env/tf1.14.0/lib/python3.6/site-packages/tensorflow/python/training/saver.py:1276: checkpoint_exists (from tensorflow.python.training.checkpoint_management) is deprecated and will be removed in a future version.\n",
      "Instructions for updating:\n",
      "Use standard file APIs to check for files with this prefix.\n",
      "INFO:tensorflow:Restoring parameters from /data/thor_hd1/adv_new_models/FashionMNIST-st0/FF-cCE-st0-stp0.0-bs100-trA_lr0.0001_bo0.9_bt0.999-cNo-nC32o3,3_BN_P2s2_C32o3,3_BN_P2s2_DOr0.3_C32o3,3_BN_P2s2_C32o3,3_BN_P2s2_DOr0.3_D500_D10-cpS-aR-wix-bic0.1-wrLtwo0.001-brLtwo0.001-r0/saved_models/model.ckpt-165550\n",
      " Restoring parameters from /data/thor_hd1/adv_new_models/FashionMNIST-st0/FF-cCE-st0-stp0.0-bs100-trA_lr0.0001_bo0.9_bt0.999-cNo-nC32o3,3_BN_P2s2_C32o3,3_BN_P2s2_DOr0.3_C32o3,3_BN_P2s2_C32o3,3_BN_P2s2_DOr0.3_D500_D10-cpS-aR-wix-bic0.1-wrLtwo0.001-brLtwo0.001-r0/saved_models/model.ckpt-165550\n"
     ]
    }
   ],
   "source": [
    "# LOAD FF NETWORK\n",
    "dummy_logits = ff_network(dummy_x, is_training = is_training)\n",
    "ff_network.restore(sess, ff_checkpoint_name)\n",
    "\n",
    "# CALLABLE\n",
    "ff_module = ff_network.module\n"
   ]
  },
  {
   "cell_type": "code",
   "execution_count": 8,
   "metadata": {},
   "outputs": [
    {
     "name": "stdout",
     "output_type": "stream",
     "text": [
      "WARNING:tensorflow:From /home/deliaed/adversarial/datasets/Dataset.py:291: py_func (from tensorflow.python.ops.script_ops) is deprecated and will be removed in a future version.\n",
      "Instructions for updating:\n",
      "tf.py_func is deprecated in TF V2. Instead, there are two\n",
      "    options available in V2.\n",
      "    - tf.py_function takes a python function which manipulates tf eager\n",
      "    tensors instead of numpy arrays. It's easy to convert a tf eager tensor to\n",
      "    an ndarray (just call tensor.numpy()) but having access to eager tensors\n",
      "    means `tf.py_function`s can use accelerators such as GPUs as well as\n",
      "    being differentiable using a gradient tape.\n",
      "    - tf.numpy_function maintains the semantics of the deprecated tf.py_func\n",
      "    (it is not differentiable, and manipulates numpy arrays). It drops the\n",
      "    stateful argument making all functions stateful.\n",
      "    \n",
      " From /home/deliaed/adversarial/datasets/Dataset.py:291: py_func (from tensorflow.python.ops.script_ops) is deprecated and will be removed in a future version.\n",
      "Instructions for updating:\n",
      "tf.py_func is deprecated in TF V2. Instead, there are two\n",
      "    options available in V2.\n",
      "    - tf.py_function takes a python function which manipulates tf eager\n",
      "    tensors instead of numpy arrays. It's easy to convert a tf eager tensor to\n",
      "    an ndarray (just call tensor.numpy()) but having access to eager tensors\n",
      "    means `tf.py_function`s can use accelerators such as GPUs as well as\n",
      "    being differentiable using a gradient tape.\n",
      "    - tf.numpy_function maintains the semantics of the deprecated tf.py_func\n",
      "    (it is not differentiable, and manipulates numpy arrays). It drops the\n",
      "    stateful argument making all functions stateful.\n",
      "    \n",
      "WARNING:tensorflow:From /data1/env/tf1.14.0/lib/python3.6/site-packages/tensorflow/python/data/util/random_seed.py:58: add_dispatch_support.<locals>.wrapper (from tensorflow.python.ops.array_ops) is deprecated and will be removed in a future version.\n",
      "Instructions for updating:\n",
      "Use tf.where in 2.0, which has the same broadcast rule as np.where\n",
      " From /data1/env/tf1.14.0/lib/python3.6/site-packages/tensorflow/python/data/util/random_seed.py:58: add_dispatch_support.<locals>.wrapper (from tensorflow.python.ops.array_ops) is deprecated and will be removed in a future version.\n",
      "Instructions for updating:\n",
      "Use tf.where in 2.0, which has the same broadcast rule as np.where\n",
      "WARNING:tensorflow:From /home/deliaed/adversarial/datasets/Dataset.py:376: DatasetV1.make_one_shot_iterator (from tensorflow.python.data.ops.dataset_ops) is deprecated and will be removed in a future version.\n",
      "Instructions for updating:\n",
      "Use `for ... in dataset:` to iterate over a dataset. If using `tf.estimator`, return the `Dataset` object directly from your input function. As a last resort, you can use `tf.compat.v1.data.make_one_shot_iterator(dataset)`.\n",
      " From /home/deliaed/adversarial/datasets/Dataset.py:376: DatasetV1.make_one_shot_iterator (from tensorflow.python.data.ops.dataset_ops) is deprecated and will be removed in a future version.\n",
      "Instructions for updating:\n",
      "Use `for ... in dataset:` to iterate over a dataset. If using `tf.estimator`, return the `Dataset` object directly from your input function. As a last resort, you can use `tf.compat.v1.data.make_one_shot_iterator(dataset)`.\n",
      "WARNING:tensorflow:From /home/deliaed/adversarial/datasets/Dataset.py:380: DatasetV1.make_initializable_iterator (from tensorflow.python.data.ops.dataset_ops) is deprecated and will be removed in a future version.\n",
      "Instructions for updating:\n",
      "Use `for ... in dataset:` to iterate over a dataset. If using `tf.estimator`, return the `Dataset` object directly from your input function. As a last resort, you can use `tf.compat.v1.data.make_initializable_iterator(dataset)`.\n",
      " From /home/deliaed/adversarial/datasets/Dataset.py:380: DatasetV1.make_initializable_iterator (from tensorflow.python.data.ops.dataset_ops) is deprecated and will be removed in a future version.\n",
      "Instructions for updating:\n",
      "Use `for ... in dataset:` to iterate over a dataset. If using `tf.estimator`, return the `Dataset` object directly from your input function. As a last resort, you can use `tf.compat.v1.data.make_initializable_iterator(dataset)`.\n",
      "WARNING:tensorflow:From /home/deliaed/adversarial/datasets/Dataset.py:475: Iterator.output_types (from tensorflow.python.data.ops.iterator_ops) is deprecated and will be removed in a future version.\n",
      "Instructions for updating:\n",
      "Use `tf.compat.v1.data.get_output_types(iterator)`.\n",
      " From /home/deliaed/adversarial/datasets/Dataset.py:475: Iterator.output_types (from tensorflow.python.data.ops.iterator_ops) is deprecated and will be removed in a future version.\n",
      "Instructions for updating:\n",
      "Use `tf.compat.v1.data.get_output_types(iterator)`.\n",
      "WARNING:tensorflow:From /home/deliaed/adversarial/datasets/Dataset.py:482: Iterator.output_shapes (from tensorflow.python.data.ops.iterator_ops) is deprecated and will be removed in a future version.\n",
      "Instructions for updating:\n",
      "Use `tf.compat.v1.data.get_output_shapes(iterator)`.\n",
      " From /home/deliaed/adversarial/datasets/Dataset.py:482: Iterator.output_shapes (from tensorflow.python.data.ops.iterator_ops) is deprecated and will be removed in a future version.\n",
      "Instructions for updating:\n",
      "Use `tf.compat.v1.data.get_output_shapes(iterator)`.\n",
      "WARNING:tensorflow:From /home/deliaed/adversarial/datasets/Dataset.py:510: The name tf.data.Iterator is deprecated. Please use tf.compat.v1.data.Iterator instead.\n",
      "\n",
      " From /home/deliaed/adversarial/datasets/Dataset.py:510: The name tf.data.Iterator is deprecated. Please use tf.compat.v1.data.Iterator instead.\n",
      "\n",
      "next batch of input x: Tensor(\"IteratorGetNext:0\", shape=(?, 28, 28, 1), dtype=float32)\n",
      "next batch of labels y: Tensor(\"Cast:0\", shape=(?,), dtype=int32)\n"
     ]
    }
   ],
   "source": [
    "# DATASET SECTION\n",
    "# these are all the datasets tag available\n",
    "from prediction.datasets.Dataset import TRAIN_LOOP, TRAIN, VALIDATION, TEST, \\\n",
    "                TRAIN_SHUFFLED, VALIDATION_SHUFFLED, TEST_SHUFFLED\n",
    "\n",
    "\n",
    "BATCH_TRAIN=1\n",
    "BATCH_EVAL=1\n",
    "\n",
    "dataset = ff_dataset\n",
    "\n",
    "datasets_nodes, ds_handle, datasets_initializers, datasets_handles_nodes, _ = dataset.get_dataset_with_handle(BATCH_TRAIN, BATCH_EVAL)\n",
    "x, y = datasets_nodes\n",
    "y = tf.cast(y, tf.int32)\n",
    "\n",
    "print(\"next batch of input x:\", x)\n",
    "print(\"next batch of labels y:\", y)\n",
    "\n",
    "datasets_handles = sess.run(datasets_handles_nodes)\n"
   ]
  },
  {
   "cell_type": "code",
   "execution_count": 9,
   "metadata": {},
   "outputs": [
    {
     "name": "stdout",
     "output_type": "stream",
     "text": [
      "Parsing network network...\n",
      " Loading sonnet module Conv2D\n",
      " Loading sonnet module BatchNorm\n",
      " Loading sonnet module MaxPooling2D\n",
      " Loading sonnet module Conv2D\n",
      " Loading sonnet module BatchNorm\n",
      " Loading sonnet module MaxPooling2D\n",
      " Loading sonnet module Dropout\n",
      " Loading sonnet module Conv2D\n",
      " Loading sonnet module BatchNorm\n",
      " Loading sonnet module MaxPooling2D\n",
      " Loading sonnet module Conv2D\n",
      " Loading sonnet module BatchNorm\n",
      " Loading sonnet module MaxPooling2D\n",
      " Loading sonnet module Dropout\n",
      " Loading sonnet module BatchFlatten\n",
      " Loading sonnet module Linear\n",
      " Loading sonnet module Linear\n",
      "Tensor(\"network/linear_1/add:0\", shape=(?, 10), dtype=float32) Tensor(\"ArgMax_1:0\", shape=(?,), dtype=int32)\n"
     ]
    }
   ],
   "source": [
    "# define probs and preds, starting from x\n",
    "\n",
    "logits = ff_module(x)\n",
    "\n",
    "\n",
    "accuracy = 100. * tf.reduce_mean(tf.cast(\n",
    "                   tf.equal(tf.argmax(logits, axis = 1),\n",
    "                         tf.cast(y, dtype = tf.int64)),\n",
    "                         dtype = tf.float32))\n",
    "\n",
    "preds = tf.argmax(logits, axis=1, output_type=tf.int32)\n",
    "\n",
    "print(logits, preds)\n",
    "\n",
    "probs = tf.nn.softmax(logits)\n",
    "correct = tf.equal(preds, y)\n"
   ]
  },
  {
   "cell_type": "code",
   "execution_count": 10,
   "metadata": {},
   "outputs": [
    {
     "name": "stdout",
     "output_type": "stream",
     "text": [
      "(28, 28, 1) 10\n"
     ]
    }
   ],
   "source": [
    "input_shape = dataset.x_shape\n",
    "n_classes = dataset.n_labels\n",
    "print(input_shape, n_classes)"
   ]
  },
  {
   "cell_type": "code",
   "execution_count": null,
   "metadata": {},
   "outputs": [],
   "source": []
  },
  {
   "cell_type": "code",
   "execution_count": 11,
   "metadata": {},
   "outputs": [
    {
     "name": "stdout",
     "output_type": "stream",
     "text": [
      "(1, 28, 28, 1) (1,)\n",
      "[4]\n"
     ]
    }
   ],
   "source": [
    "#THIS IS HOW YOU READ IN SEQUENCE\n",
    "\n",
    "#first select which dataset you are interested in,\n",
    "# any dataset needs to be initialized with the exception of TRAIN_LOOP since it is an infinite loop and need not be initialized\n",
    "dataset_str = TRAIN\n",
    "\n",
    "sess.run(datasets_initializers[dataset_str])\n",
    "x_np, y_np = sess.run([x,y], feed_dict = {ds_handle : datasets_handles[dataset_str]})\n",
    "\n",
    "print(x_np.shape, y_np.shape)\n",
    "print(y_np)"
   ]
  },
  {
   "cell_type": "markdown",
   "metadata": {},
   "source": [
    "# Classifier"
   ]
  },
  {
   "cell_type": "code",
   "execution_count": 16,
   "metadata": {},
   "outputs": [],
   "source": [
    "\n",
    "def get_cmap(img):\n",
    "    ch = None\n",
    "    if len(img.shape) == 3:\n",
    "        ch = 2\n",
    "    elif len(img.shape) == 4:\n",
    "        ch = 3\n",
    "    else:\n",
    "        raise Exception(\"expeting either a 3D or a 4D tensor\")\n",
    "    \n",
    "    channels = img.shape[ch]\n",
    "    if channels==3:\n",
    "        cmap = 'rgb'\n",
    "    elif channels==1:\n",
    "        cmap = 'gray'\n",
    "    else:\n",
    "        raise Exception(\"image channel value not valid\")\n",
    "    return cmap\n",
    "\n",
    "def classify(img, inputs, probs, correct_class=None, target_class=None):\n",
    "    if img.shape[0]!=1:\n",
    "        raise Exception(\"expected a batch of a single image, received shape: %s\"%img.shape)\n",
    "    \n",
    "    fig, (ax1, ax2) = plt.subplots(1, 2, figsize=(10, 8))\n",
    "    fig.sca(ax1)\n",
    "    p = sess.run(probs, feed_dict={inputs: img})[0]\n",
    "    \n",
    "    cmap = get_cmap(img)\n",
    "    ax1.imshow(np.squeeze(img), cmap = cmap)\n",
    "    fig.sca(ax1)\n",
    "\n",
    "    topk = list(p.argsort()[-10:][::-1])\n",
    "    topprobs = p[topk]\n",
    "    barlist = ax2.bar(range(10), topprobs)\n",
    "    if target_class in topk:\n",
    "        barlist[topk.index(target_class)].set_color('r')\n",
    "    if correct_class in topk:\n",
    "        barlist[topk.index(correct_class)].set_color('g')\n",
    "    plt.sca(ax2)\n",
    "    plt.ylim([0, 1.1])\n",
    "    plt.xticks(range(10),\n",
    "               [dataset.label_to_name(i)[:15] for i in topk],\n",
    "               rotation='vertical')\n",
    "    fig.subplots_adjust(bottom=0.2)\n",
    "    plt.show()\n",
    "\n",
    "def plot_imgs(imgs, rows, cols):\n",
    "    f, axarr = plt.subplots(rows, cols)\n",
    "    axarr = axarr.reshape(rows,cols)\n",
    "    cmap = get_cmap(imgs[0])\n",
    "    for i in range(rows):\n",
    "        for j in range(cols):\n",
    "            axarr[i,j].imshow(np.squeeze(imgs[i*cols+j]), cmap = cmap)\n"
   ]
  },
  {
   "cell_type": "code",
   "execution_count": 17,
   "metadata": {},
   "outputs": [
    {
     "data": {
      "image/png": "[encoded data removed]",
      "text/plain": [
       "<Figure size 720x576 with 2 Axes>"
      ]
     },
     "metadata": {
      "needs_background": "light"
     },
     "output_type": "display_data"
    }
   ],
   "source": [
    "classify(dataset.get_raw_elements(TRAIN, [33]), x, probs)"
   ]
  },
  {
   "cell_type": "code",
   "execution_count": null,
   "metadata": {},
   "outputs": [],
   "source": []
  },
  {
   "cell_type": "code",
   "execution_count": 18,
   "metadata": {},
   "outputs": [
    {
     "name": "stdout",
     "output_type": "stream",
     "text": [
      "Image misclassified:  49\n"
     ]
    }
   ],
   "source": [
    "# find the first image which is misclassified\n",
    "dataset_str = TRAIN\n",
    "\n",
    "sess.run(datasets_initializers[dataset_str])\n",
    "i = 0\n",
    "while True:\n",
    "    correct_np = sess.run(correct, feed_dict={ds_handle : datasets_handles[dataset_str]})\n",
    "    if (correct_np == False):\n",
    "        print(\"Image misclassified: \", i)\n",
    "        break\n",
    "    i+=1"
   ]
  },
  {
   "cell_type": "code",
   "execution_count": 19,
   "metadata": {},
   "outputs": [
    {
     "name": "stdout",
     "output_type": "stream",
     "text": [
      "correct label: ['Bag']\n"
     ]
    },
    {
     "data": {
      "image/png": "[encoded data removed]",
      "text/plain": [
       "<Figure size 720x576 with 2 Axes>"
      ]
     },
     "metadata": {
      "needs_background": "light"
     },
     "output_type": "display_data"
    }
   ],
   "source": [
    "# select an image and look at its prediction\n",
    "no_img = 12\n",
    "dataset_str = TRAIN\n",
    "\n",
    "classify(dataset.get_raw_elements(dataset_str, index_list=[no_img]), x, probs)\n",
    "\n",
    "print(\"correct label:\",\n",
    "      list(map(dataset.label_to_name, dataset.get_raw_labels(dataset_str, [no_img])))\n",
    "     )"
   ]
  },
  {
   "cell_type": "code",
   "execution_count": 20,
   "metadata": {},
   "outputs": [
    {
     "name": "stdout",
     "output_type": "stream",
     "text": [
      "Tensor(\"network/linear_1/add:0\", shape=(?, 10), dtype=float32)\n"
     ]
    }
   ],
   "source": [
    "#define the loss\n",
    "loss = tf.nn.softmax_cross_entropy_with_logits_v2(logits=logits,\n",
    "                                                  labels=tf.one_hot(y, n_classes))\n",
    "grad, = tf.gradients(loss, x)\n",
    "print(logits)"
   ]
  },
  {
   "cell_type": "code",
   "execution_count": 21,
   "metadata": {},
   "outputs": [
    {
     "name": "stdout",
     "output_type": "stream",
     "text": [
      "(1, 28, 28, 1) (1,)\n",
      "correct label:  [1] Trouser\n"
     ]
    },
    {
     "data": {
      "image/png": "[encoded data removed]",
      "text/plain": [
       "<Figure size 720x576 with 2 Axes>"
      ]
     },
     "metadata": {
      "needs_background": "light"
     },
     "output_type": "display_data"
    }
   ],
   "source": [
    "# now let's select an image for the attack\n",
    "\n",
    "no_img = 24\n",
    "dataset_str = TRAIN\n",
    "\n",
    "x_orig = dataset.get_raw_elements(dataset_str, index_list=[no_img])\n",
    "y_orig = dataset.get_raw_labels(dataset_str, index_list=[no_img])\n",
    "\n",
    "print(x_orig.shape, y_orig.shape)\n",
    "classify(x_orig, x, probs)\n",
    "print(\"correct label: \", y_orig, dataset.label_to_name(y_orig[0]))\n"
   ]
  },
  {
   "cell_type": "code",
   "execution_count": 22,
   "metadata": {},
   "outputs": [
    {
     "name": "stdout",
     "output_type": "stream",
     "text": [
      "step 0, pred=1 Trouser\n",
      "step 1, pred=1 Trouser\n",
      "step 2, pred=1 Trouser\n",
      "step 3, pred=1 Trouser\n",
      "step 4, pred=1 Trouser\n",
      "step 5, pred=1 Trouser\n",
      "step 6, pred=1 Trouser\n",
      "step 7, pred=1 Trouser\n",
      "step 8, pred=1 Trouser\n",
      "step 9, pred=1 Trouser\n",
      "step 10, pred=1 Trouser\n",
      "step 11, pred=1 Trouser\n",
      "step 12, pred=1 Trouser\n",
      "step 13, pred=1 Trouser\n",
      "step 14, pred=1 Trouser\n",
      "step 15, pred=1 Trouser\n",
      "step 16, pred=1 Trouser\n",
      "step 17, pred=1 Trouser\n",
      "step 18, pred=1 Trouser\n",
      "step 19, pred=1 Trouser\n",
      "step 20, pred=1 Trouser\n",
      "step 21, pred=1 Trouser\n",
      "step 22, pred=1 Trouser\n",
      "step 23, pred=1 Trouser\n",
      "step 24, pred=1 Trouser\n",
      "step 25, pred=1 Trouser\n",
      "step 26, pred=1 Trouser\n",
      "step 27, pred=1 Trouser\n",
      "step 28, pred=1 Trouser\n",
      "step 29, pred=1 Trouser\n",
      "step 30, pred=1 Trouser\n",
      "step 31, pred=1 Trouser\n",
      "step 32, pred=1 Trouser\n",
      "step 33, pred=1 Trouser\n",
      "step 34, pred=1 Trouser\n",
      "step 35, pred=1 Trouser\n",
      "step 36, pred=1 Trouser\n",
      "step 37, pred=1 Trouser\n",
      "step 38, pred=1 Trouser\n",
      "step 39, pred=1 Trouser\n"
     ]
    },
    {
     "data": {
      "image/png": "[encoded data removed]",
      "text/plain": [
       "<Figure size 432x288 with 2 Axes>"
      ]
     },
     "metadata": {
      "needs_background": "light"
     },
     "output_type": "display_data"
    }
   ],
   "source": [
    "# PGD\n",
    "LR = 0.1\n",
    "EPSILON = 0.05\n",
    "\n",
    "lower = np.clip(x_orig-EPSILON, -1, 1)\n",
    "upper = np.clip(x_orig+EPSILON, -1, 1)\n",
    "adv = np.copy(x_orig)\n",
    "\n",
    "for i in range(40):\n",
    "    g, p = sess.run([grad, preds], {x: adv, y: y_orig})\n",
    "    print('step %d, pred=%d %s' % (i, p, dataset.label_to_name(p[0])))\n",
    "    # step\n",
    "    adv += LR * g\n",
    "    # project\n",
    "    adv = np.clip(adv, lower, upper)\n",
    "\n",
    "plot_imgs([x_orig, adv], 1, 2)"
   ]
  },
  {
   "cell_type": "code",
   "execution_count": 19,
   "metadata": {},
   "outputs": [],
   "source": [
    "# # OUR PGD\n",
    "# list_logits = [tf.slice(logits, [0, i], [1, 1]) for i in range(n_classes)]\n",
    "# grad_logits = [tf.gradients(list_logits[i], x)[0] for i in range(n_classes)]\n",
    "# print(list_logits[1])\n",
    "# print(grad_logits[1])\n",
    "\n",
    "# numerator_matrices = tf.stack(\n",
    "#     [(grad_logits[i] - grad_logits[y_orig]) * tf.exp(list_logits[i] - list_logits[y_orig]) \\\n",
    "#          for i in range(n_classes)])\n",
    "# print(numerator)\n",
    "\n",
    "\n",
    "# tot_grad = numerator/tf.reduce_sum(tf.exp(logits - list_logits[y_orig])) \n",
    "\n",
    "# LR = 0.1\n",
    "# adv = np.copy(orig)\n",
    "\n",
    "# for i in range(40):\n",
    "#     g, p = sess.run([tot_grad, preds], {x: adv, y: y_orig})\n",
    "#     print('step %d, pred=%d' % (i, p))\n",
    "#     print(g)\n",
    "#     # step\n",
    "#     adv += LR * g\n",
    "#     # project\n",
    "#     adv = np.clip(adv, lower, upper)"
   ]
  },
  {
   "cell_type": "code",
   "execution_count": 23,
   "metadata": {},
   "outputs": [
    {
     "name": "stdout",
     "output_type": "stream",
     "text": [
      "Parsing network network...\n",
      " Loading sonnet module Conv2D\n",
      " Loading sonnet module BatchNorm\n",
      " Loading sonnet module MaxPooling2D\n",
      " Loading sonnet module Conv2D\n",
      " Loading sonnet module BatchNorm\n",
      " Loading sonnet module MaxPooling2D\n",
      " Loading sonnet module Dropout\n",
      " Loading sonnet module Conv2D\n",
      " Loading sonnet module BatchNorm\n",
      " Loading sonnet module MaxPooling2D\n",
      " Loading sonnet module Conv2D\n",
      " Loading sonnet module BatchNorm\n",
      " Loading sonnet module MaxPooling2D\n",
      " Loading sonnet module Dropout\n",
      " Loading sonnet module BatchFlatten\n",
      " Loading sonnet module Linear\n",
      " Loading sonnet module Linear\n",
      "WARNING:tensorflow:From /home/deliaed/adversarial/CarliniWagner.py:77: The name tf.train.AdamOptimizer is deprecated. Please use tf.compat.v1.train.AdamOptimizer instead.\n",
      "\n",
      " From /home/deliaed/adversarial/CarliniWagner.py:77: The name tf.train.AdamOptimizer is deprecated. Please use tf.compat.v1.train.AdamOptimizer instead.\n",
      "\n",
      "attack in progress 1 [1]\n",
      "attack in progress 1 [1]\n",
      "attack in progress 1 [1]\n",
      "attack in progress 1 [1]\n",
      "attack in progress 1 [3]\n",
      "attack in progress 1 [3]\n",
      "attack in progress 1 [3]\n",
      "attack in progress 1 [3]\n",
      "attack in progress 1 [3]\n",
      "attack in progress 1 [3]\n"
     ]
    },
    {
     "data": {
      "image/png": "[encoded data removed]",
      "text/plain": [
       "<Figure size 432x288 with 2 Axes>"
      ]
     },
     "metadata": {
      "needs_background": "light"
     },
     "output_type": "display_data"
    }
   ],
   "source": [
    "#CW\n",
    "from CarliniWagner import CarliniWagner\n",
    "\n",
    "LR = 0.1\n",
    "NUM_STEPS = 10\n",
    "EPSILON = 0.07\n",
    "\n",
    "attack = CarliniWagner(sess, ff_module, num_steps=NUM_STEPS, epsilon=EPSILON,\n",
    "                         ord=0., data_interval=[-1,1.], learning_rate=LR,\n",
    "                         input_shape=input_shape, n_classes=n_classes)\n",
    "\n",
    "adv = attack.run(x_orig[0], y_orig[0])\n",
    "\n",
    "plot_imgs([x_orig, adv], 1, 2)\n"
   ]
  },
  {
   "cell_type": "code",
   "execution_count": 24,
   "metadata": {},
   "outputs": [
    {
     "name": "stdout",
     "output_type": "stream",
     "text": [
      "Parsing network network...\n",
      " Loading sonnet module Conv2D\n",
      " Loading sonnet module BatchNorm\n",
      " Loading sonnet module MaxPooling2D\n",
      " Loading sonnet module Conv2D\n",
      " Loading sonnet module BatchNorm\n",
      " Loading sonnet module MaxPooling2D\n",
      " Loading sonnet module Dropout\n",
      " Loading sonnet module Conv2D\n",
      " Loading sonnet module BatchNorm\n",
      " Loading sonnet module MaxPooling2D\n",
      " Loading sonnet module Conv2D\n",
      " Loading sonnet module BatchNorm\n",
      " Loading sonnet module MaxPooling2D\n",
      " Loading sonnet module Dropout\n",
      " Loading sonnet module BatchFlatten\n",
      " Loading sonnet module Linear\n",
      " Loading sonnet module Linear\n",
      "attack in progress 1 [1]\n",
      "attack in progress 1 [1]\n",
      "attack in progress 1 [1]\n",
      "attack in progress 1 [1]\n",
      "attack in progress 1 [1]\n",
      "attack in progress 1 [1]\n",
      "attack in progress 1 [1]\n",
      "attack in progress 1 [1]\n",
      "attack in progress 1 [1]\n",
      "attack in progress 1 [1]\n"
     ]
    },
    {
     "data": {
      "image/png": "[encoded data removed]",
      "text/plain": [
       "<Figure size 432x288 with 2 Axes>"
      ]
     },
     "metadata": {
      "needs_background": "light"
     },
     "output_type": "display_data"
    }
   ],
   "source": [
    "#CW\n",
    "from CarliniWagner import CarliniWagnerDelta\n",
    "\n",
    "LR = 0.1\n",
    "NUM_STEPS = 10\n",
    "EPSILON = 0.07\n",
    "\n",
    "attack = CarliniWagnerDelta(sess, ff_module, num_steps=NUM_STEPS, epsilon=EPSILON,\n",
    "                         data_interval=[-1.,1.], learning_rate=LR,\n",
    "                         input_shape=input_shape, n_classes=n_classes)\n",
    "\n",
    "adv = attack.run(x_orig[0], y_orig[0])\n",
    "\n",
    "plot_imgs([x_orig, adv], 1, 2)\n"
   ]
  },
  {
   "cell_type": "code",
   "execution_count": 41,
   "metadata": {},
   "outputs": [
    {
     "name": "stdout",
     "output_type": "stream",
     "text": [
      "Parsing network network...\n",
      " Loading sonnet module Conv2D\n",
      " Loading sonnet module BatchNorm\n",
      " Loading sonnet module MaxPooling2D\n",
      " Loading sonnet module Conv2D\n",
      " Loading sonnet module BatchNorm\n",
      " Loading sonnet module MaxPooling2D\n",
      " Loading sonnet module Dropout\n",
      " Loading sonnet module Conv2D\n",
      " Loading sonnet module BatchNorm\n",
      " Loading sonnet module MaxPooling2D\n",
      " Loading sonnet module Conv2D\n",
      " Loading sonnet module BatchNorm\n",
      " Loading sonnet module MaxPooling2D\n",
      " Loading sonnet module Dropout\n",
      " Loading sonnet module BatchFlatten\n",
      " Loading sonnet module Linear\n",
      " Loading sonnet module Linear\n",
      "attack in progress 1 [1]\n",
      "attack in progress 1 [1]\n",
      "attack in progress 1 [1]\n",
      "attack in progress 1 [1]\n",
      "attack in progress 1 [1]\n",
      "attack in progress 1 [1]\n",
      "attack in progress 1 [1]\n",
      "attack in progress 1 [1]\n",
      "attack in progress 1 [1]\n",
      "attack in progress 1 [1]\n"
     ]
    },
    {
     "data": {
      "image/png": "[encoded data removed]",
      "text/plain": [
       "<Figure size 432x288 with 2 Axes>"
      ]
     },
     "metadata": {
      "needs_background": "light"
     },
     "output_type": "display_data"
    }
   ],
   "source": [
    "LR = 0.1\n",
    "NUM_STEPS = 10\n",
    "PROJ_ORD = np.inf\n",
    "EPSILON = 0.07\n",
    "ORD = 2\n",
    "CONST = 1\n",
    "\n",
    "attack = CarliniWagner(sess, ff_module, num_steps=NUM_STEPS,\n",
    "                        proj_ord=PROJ_ORD, epsilon=EPSILON,\n",
    "                        ord=ORD, const=CONST, data_interval=[-1.,1.],\n",
    "                        learning_rate=LR, input_shape=input_shape, n_classes=n_classes)\n",
    "\n",
    "adv = attack.run(x_orig[0], y_orig[0])\n",
    "\n",
    "plot_imgs([x_orig, adv], 1, 2)\n"
   ]
  },
  {
   "cell_type": "code",
   "execution_count": 84,
   "metadata": {},
   "outputs": [
    {
     "name": "stdout",
     "output_type": "stream",
     "text": [
      "(1, 28, 28, 1) (1,)\n",
      "correct label:  [1] Trouser\n"
     ]
    },
    {
     "data": {
      "image/png": "[encoded data removed]",
      "text/plain": [
       "<Figure size 720x576 with 2 Axes>"
      ]
     },
     "metadata": {
      "needs_background": "light"
     },
     "output_type": "display_data"
    }
   ],
   "source": [
    "no_img = 24\n",
    "dataset_str = TRAIN\n",
    "\n",
    "x_orig = dataset.get_raw_elements(dataset_str, index_list=[no_img])\n",
    "y_orig = dataset.get_raw_labels(dataset_str, index_list=[no_img])\n",
    "\n",
    "print(x_orig.shape, y_orig.shape)\n",
    "classify(x_orig, x, probs)\n",
    "print(\"correct label: \", y_orig, dataset.label_to_name(y_orig[0]))"
   ]
  },
  {
   "cell_type": "code",
   "execution_count": 85,
   "metadata": {},
   "outputs": [
    {
     "name": "stdout",
     "output_type": "stream",
     "text": [
      "step 0, pred=1 Trouser\n",
      "step 1, pred=1 Trouser\n",
      "step 2, pred=1 Trouser\n",
      "step 3, pred=1 Trouser\n",
      "step 4, pred=1 Trouser\n",
      "step 5, pred=1 Trouser\n",
      "step 6, pred=1 Trouser\n",
      "step 7, pred=1 Trouser\n",
      "step 8, pred=1 Trouser\n",
      "step 9, pred=1 Trouser\n",
      "step 10, pred=1 Trouser\n",
      "step 11, pred=1 Trouser\n",
      "step 12, pred=1 Trouser\n",
      "step 13, pred=1 Trouser\n",
      "step 14, pred=1 Trouser\n",
      "step 15, pred=1 Trouser\n",
      "step 16, pred=1 Trouser\n",
      "step 17, pred=1 Trouser\n",
      "step 18, pred=1 Trouser\n",
      "step 19, pred=1 Trouser\n",
      "step 20, pred=1 Trouser\n",
      "step 21, pred=1 Trouser\n",
      "step 22, pred=1 Trouser\n",
      "step 23, pred=1 Trouser\n",
      "step 24, pred=1 Trouser\n",
      "step 25, pred=1 Trouser\n",
      "step 26, pred=1 Trouser\n",
      "step 27, pred=1 Trouser\n",
      "step 28, pred=1 Trouser\n",
      "step 29, pred=1 Trouser\n",
      "step 30, pred=1 Trouser\n",
      "step 31, pred=1 Trouser\n",
      "step 32, pred=1 Trouser\n",
      "step 33, pred=1 Trouser\n",
      "step 34, pred=1 Trouser\n",
      "step 35, pred=1 Trouser\n",
      "step 36, pred=1 Trouser\n",
      "step 37, pred=1 Trouser\n",
      "step 38, pred=1 Trouser\n",
      "step 39, pred=1 Trouser\n"
     ]
    },
    {
     "data": {
      "image/png": "[encoded data removed]",
      "text/plain": [
       "<Figure size 432x288 with 2 Axes>"
      ]
     },
     "metadata": {
      "needs_background": "light"
     },
     "output_type": "display_data"
    }
   ],
   "source": [
    "LR = 0.1\n",
    "EPSILON = 0.1\n",
    "\n",
    "lower = np.clip(x_orig-EPSILON, -1, 1)\n",
    "upper = np.clip(x_orig+EPSILON, -1, 1)\n",
    "adv = np.copy(x_orig)\n",
    "\n",
    "for i in range(40):\n",
    "    g, p = sess.run([grad, preds], {x: adv, y: y_orig})\n",
    "    print('step %d, pred=%d %s' % (i, p, dataset.label_to_name(p[0])))\n",
    "    # step\n",
    "    adv += LR * g\n",
    "    # project\n",
    "    adv = np.clip(adv, lower, upper)\n",
    "\n",
    "plot_imgs([x_orig, adv], 1, 2)"
   ]
  },
  {
   "cell_type": "code",
   "execution_count": 86,
   "metadata": {},
   "outputs": [
    {
     "name": "stdout",
     "output_type": "stream",
     "text": [
      "Parsing network network...\n",
      " Loading sonnet module Conv2D\n",
      " Loading sonnet module BatchNorm\n",
      " Loading sonnet module MaxPooling2D\n",
      " Loading sonnet module Conv2D\n",
      " Loading sonnet module BatchNorm\n",
      " Loading sonnet module MaxPooling2D\n",
      " Loading sonnet module Dropout\n",
      " Loading sonnet module Conv2D\n",
      " Loading sonnet module BatchNorm\n",
      " Loading sonnet module MaxPooling2D\n",
      " Loading sonnet module Conv2D\n",
      " Loading sonnet module BatchNorm\n",
      " Loading sonnet module MaxPooling2D\n",
      " Loading sonnet module Dropout\n",
      " Loading sonnet module BatchFlatten\n",
      " Loading sonnet module Linear\n",
      " Loading sonnet module Linear\n",
      "attack in progress 1 [1]\n",
      "attack in progress 1 [1]\n",
      "attack in progress 1 [1]\n",
      "attack in progress 1 [1]\n",
      "attack in progress 1 [3]\n",
      "attack in progress 1 [3]\n",
      "attack in progress 1 [3]\n",
      "attack in progress 1 [3]\n",
      "attack in progress 1 [3]\n",
      "attack in progress 1 [3]\n",
      "attack in progress 1 [3]\n",
      "attack in progress 1 [3]\n",
      "attack in progress 1 [3]\n",
      "attack in progress 1 [3]\n",
      "attack in progress 1 [3]\n",
      "attack in progress 1 [3]\n",
      "attack in progress 1 [3]\n",
      "attack in progress 1 [3]\n",
      "attack in progress 1 [3]\n",
      "attack in progress 1 [3]\n",
      "attack in progress 1 [3]\n",
      "attack in progress 1 [3]\n",
      "attack in progress 1 [3]\n",
      "attack in progress 1 [3]\n",
      "attack in progress 1 [3]\n",
      "attack in progress 1 [3]\n",
      "attack in progress 1 [3]\n",
      "attack in progress 1 [3]\n",
      "attack in progress 1 [3]\n",
      "attack in progress 1 [3]\n",
      "attack in progress 1 [3]\n",
      "attack in progress 1 [3]\n",
      "attack in progress 1 [3]\n",
      "attack in progress 1 [3]\n",
      "attack in progress 1 [3]\n",
      "attack in progress 1 [3]\n",
      "attack in progress 1 [3]\n",
      "attack in progress 1 [3]\n",
      "attack in progress 1 [3]\n",
      "attack in progress 1 [3]\n",
      "attack in progress 1 [3]\n",
      "attack in progress 1 [3]\n",
      "attack in progress 1 [3]\n",
      "attack in progress 1 [3]\n",
      "attack in progress 1 [3]\n",
      "attack in progress 1 [3]\n",
      "attack in progress 1 [3]\n",
      "attack in progress 1 [3]\n",
      "attack in progress 1 [3]\n",
      "attack in progress 1 [3]\n",
      "attack in progress 1 [3]\n",
      "attack in progress 1 [3]\n",
      "attack in progress 1 [3]\n",
      "attack in progress 1 [3]\n",
      "attack in progress 1 [3]\n",
      "attack in progress 1 [3]\n",
      "attack in progress 1 [3]\n",
      "attack in progress 1 [3]\n",
      "attack in progress 1 [3]\n",
      "attack in progress 1 [3]\n",
      "attack in progress 1 [3]\n",
      "attack in progress 1 [3]\n",
      "attack in progress 1 [3]\n",
      "attack in progress 1 [3]\n",
      "attack in progress 1 [3]\n",
      "attack in progress 1 [3]\n",
      "attack in progress 1 [3]\n",
      "attack in progress 1 [3]\n",
      "attack in progress 1 [3]\n",
      "attack in progress 1 [3]\n",
      "attack in progress 1 [3]\n",
      "attack in progress 1 [3]\n",
      "attack in progress 1 [3]\n",
      "attack in progress 1 [3]\n",
      "attack in progress 1 [3]\n",
      "attack in progress 1 [3]\n",
      "attack in progress 1 [3]\n",
      "attack in progress 1 [3]\n",
      "attack in progress 1 [3]\n",
      "attack in progress 1 [3]\n",
      "attack in progress 1 [3]\n",
      "attack in progress 1 [3]\n",
      "attack in progress 1 [3]\n",
      "attack in progress 1 [3]\n",
      "attack in progress 1 [3]\n",
      "attack in progress 1 [3]\n",
      "attack in progress 1 [3]\n",
      "attack in progress 1 [3]\n",
      "attack in progress 1 [3]\n",
      "attack in progress 1 [3]\n",
      "attack in progress 1 [3]\n",
      "attack in progress 1 [3]\n",
      "attack in progress 1 [3]\n",
      "attack in progress 1 [3]\n",
      "attack in progress 1 [3]\n",
      "attack in progress 1 [3]\n",
      "attack in progress 1 [3]\n",
      "attack in progress 1 [3]\n",
      "attack in progress 1 [3]\n",
      "attack in progress 1 [3]\n"
     ]
    },
    {
     "data": {
      "image/png": "[encoded data removed]",
      "text/plain": [
       "<Figure size 432x288 with 2 Axes>"
      ]
     },
     "metadata": {
      "needs_background": "light"
     },
     "output_type": "display_data"
    }
   ],
   "source": [
    "LR = 0.1\n",
    "NUM_STEPS = 100\n",
    "PROJ_ORD = np.inf\n",
    "EPSILON = 0.07\n",
    "ORD = 2\n",
    "CONST = 1\n",
    "\n",
    "attack = CarliniWagner(sess, ff_module, num_steps=NUM_STEPS,\n",
    "                        proj_ord=PROJ_ORD, epsilon=EPSILON,\n",
    "                        ord=ORD, const=CONST, data_interval=[-1.,1.],\n",
    "                        learning_rate=LR, input_shape=input_shape, n_classes=n_classes)\n",
    "\n",
    "adv = attack.run(x_orig[0], y_orig[0])\n",
    "\n",
    "plot_imgs([x_orig, adv], 1, 2)"
   ]
  },
  {
   "cell_type": "code",
   "execution_count": 87,
   "metadata": {},
   "outputs": [
    {
     "name": "stdout",
     "output_type": "stream",
     "text": [
      "(1, 28, 28, 1) (1,)\n",
      "correct label:  [5] Sandal\n"
     ]
    },
    {
     "data": {
      "image/png": "[encoded data removed]",
      "text/plain": [
       "<Figure size 720x576 with 2 Axes>"
      ]
     },
     "metadata": {
      "needs_background": "light"
     },
     "output_type": "display_data"
    }
   ],
   "source": [
    "no_img = 30\n",
    "dataset_str = TRAIN\n",
    "\n",
    "x_orig = dataset.get_raw_elements(dataset_str, index_list=[no_img])\n",
    "y_orig = dataset.get_raw_labels(dataset_str, index_list=[no_img])\n",
    "\n",
    "print(x_orig.shape, y_orig.shape)\n",
    "classify(x_orig, x, probs)\n",
    "print(\"correct label: \", y_orig, dataset.label_to_name(y_orig[0]))"
   ]
  },
  {
   "cell_type": "code",
   "execution_count": 88,
   "metadata": {},
   "outputs": [
    {
     "name": "stdout",
     "output_type": "stream",
     "text": [
      "step 0, pred=5 Sandal\n",
      "step 1, pred=5 Sandal\n",
      "step 2, pred=5 Sandal\n",
      "step 3, pred=5 Sandal\n",
      "step 4, pred=5 Sandal\n",
      "step 5, pred=5 Sandal\n",
      "step 6, pred=5 Sandal\n",
      "step 7, pred=5 Sandal\n",
      "step 8, pred=5 Sandal\n",
      "step 9, pred=5 Sandal\n",
      "step 10, pred=5 Sandal\n",
      "step 11, pred=5 Sandal\n",
      "step 12, pred=5 Sandal\n",
      "step 13, pred=5 Sandal\n",
      "step 14, pred=5 Sandal\n",
      "step 15, pred=5 Sandal\n",
      "step 16, pred=5 Sandal\n",
      "step 17, pred=5 Sandal\n",
      "step 18, pred=5 Sandal\n",
      "step 19, pred=5 Sandal\n",
      "step 20, pred=5 Sandal\n",
      "step 21, pred=5 Sandal\n",
      "step 22, pred=5 Sandal\n",
      "step 23, pred=5 Sandal\n",
      "step 24, pred=5 Sandal\n",
      "step 25, pred=5 Sandal\n",
      "step 26, pred=5 Sandal\n",
      "step 27, pred=5 Sandal\n",
      "step 28, pred=5 Sandal\n",
      "step 29, pred=5 Sandal\n",
      "step 30, pred=5 Sandal\n",
      "step 31, pred=5 Sandal\n",
      "step 32, pred=5 Sandal\n",
      "step 33, pred=5 Sandal\n",
      "step 34, pred=5 Sandal\n",
      "step 35, pred=5 Sandal\n",
      "step 36, pred=5 Sandal\n",
      "step 37, pred=5 Sandal\n",
      "step 38, pred=5 Sandal\n",
      "step 39, pred=5 Sandal\n"
     ]
    },
    {
     "data": {
      "image/png": "[encoded data removed]",
      "text/plain": [
       "<Figure size 432x288 with 2 Axes>"
      ]
     },
     "metadata": {
      "needs_background": "light"
     },
     "output_type": "display_data"
    }
   ],
   "source": [
    "LR = 0.1\n",
    "EPSILON = 0.1\n",
    "\n",
    "lower = np.clip(x_orig-EPSILON, -1, 1)\n",
    "upper = np.clip(x_orig+EPSILON, -1, 1)\n",
    "adv = np.copy(x_orig)\n",
    "\n",
    "for i in range(40):\n",
    "    g, p = sess.run([grad, preds], {x: adv, y: y_orig})\n",
    "    print('step %d, pred=%d %s' % (i, p, dataset.label_to_name(p[0])))\n",
    "    # step\n",
    "    adv += LR * g\n",
    "    # project\n",
    "    adv = np.clip(adv, lower, upper)\n",
    "\n",
    "plot_imgs([x_orig, adv], 1, 2)"
   ]
  },
  {
   "cell_type": "code",
   "execution_count": 72,
   "metadata": {},
   "outputs": [
    {
     "name": "stdout",
     "output_type": "stream",
     "text": [
      "Parsing network network...\n",
      " Loading sonnet module Conv2D\n",
      " Loading sonnet module BatchNorm\n",
      " Loading sonnet module MaxPooling2D\n",
      " Loading sonnet module Conv2D\n",
      " Loading sonnet module BatchNorm\n",
      " Loading sonnet module MaxPooling2D\n",
      " Loading sonnet module Dropout\n",
      " Loading sonnet module Conv2D\n",
      " Loading sonnet module BatchNorm\n",
      " Loading sonnet module MaxPooling2D\n",
      " Loading sonnet module Conv2D\n",
      " Loading sonnet module BatchNorm\n",
      " Loading sonnet module MaxPooling2D\n",
      " Loading sonnet module Dropout\n",
      " Loading sonnet module BatchFlatten\n",
      " Loading sonnet module Linear\n",
      " Loading sonnet module Linear\n",
      "attack in progress 5 [5]\n",
      "attack in progress 5 [5]\n",
      "attack in progress 5 [5]\n",
      "attack in progress 5 [5]\n",
      "attack in progress 5 [5]\n",
      "attack in progress 5 [5]\n",
      "attack in progress 5 [5]\n",
      "attack in progress 5 [5]\n",
      "attack in progress 5 [5]\n",
      "attack in progress 5 [5]\n",
      "attack in progress 5 [5]\n",
      "attack in progress 5 [5]\n",
      "attack in progress 5 [5]\n",
      "attack in progress 5 [5]\n",
      "attack in progress 5 [5]\n",
      "attack in progress 5 [5]\n",
      "attack in progress 5 [5]\n",
      "attack in progress 5 [5]\n",
      "attack in progress 5 [5]\n",
      "attack in progress 5 [5]\n",
      "attack in progress 5 [5]\n",
      "attack in progress 5 [5]\n",
      "attack in progress 5 [7]\n",
      "attack in progress 5 [7]\n",
      "attack in progress 5 [7]\n",
      "attack in progress 5 [7]\n",
      "attack in progress 5 [7]\n",
      "attack in progress 5 [7]\n",
      "attack in progress 5 [7]\n",
      "attack in progress 5 [7]\n",
      "attack in progress 5 [7]\n",
      "attack in progress 5 [7]\n",
      "attack in progress 5 [7]\n",
      "attack in progress 5 [7]\n",
      "attack in progress 5 [7]\n",
      "attack in progress 5 [7]\n",
      "attack in progress 5 [7]\n",
      "attack in progress 5 [7]\n",
      "attack in progress 5 [7]\n",
      "attack in progress 5 [7]\n",
      "attack in progress 5 [7]\n",
      "attack in progress 5 [7]\n",
      "attack in progress 5 [7]\n",
      "attack in progress 5 [7]\n",
      "attack in progress 5 [7]\n",
      "attack in progress 5 [7]\n",
      "attack in progress 5 [7]\n",
      "attack in progress 5 [7]\n",
      "attack in progress 5 [7]\n",
      "attack in progress 5 [7]\n",
      "attack in progress 5 [7]\n",
      "attack in progress 5 [7]\n",
      "attack in progress 5 [7]\n",
      "attack in progress 5 [7]\n",
      "attack in progress 5 [7]\n",
      "attack in progress 5 [7]\n",
      "attack in progress 5 [7]\n",
      "attack in progress 5 [7]\n",
      "attack in progress 5 [7]\n",
      "attack in progress 5 [7]\n",
      "attack in progress 5 [7]\n",
      "attack in progress 5 [7]\n",
      "attack in progress 5 [7]\n",
      "attack in progress 5 [7]\n",
      "attack in progress 5 [7]\n",
      "attack in progress 5 [7]\n",
      "attack in progress 5 [7]\n",
      "attack in progress 5 [7]\n",
      "attack in progress 5 [7]\n",
      "attack in progress 5 [7]\n",
      "attack in progress 5 [7]\n",
      "attack in progress 5 [7]\n",
      "attack in progress 5 [7]\n",
      "attack in progress 5 [7]\n",
      "attack in progress 5 [7]\n",
      "attack in progress 5 [7]\n",
      "attack in progress 5 [7]\n",
      "attack in progress 5 [7]\n",
      "attack in progress 5 [7]\n",
      "attack in progress 5 [7]\n",
      "attack in progress 5 [7]\n",
      "attack in progress 5 [7]\n",
      "attack in progress 5 [7]\n",
      "attack in progress 5 [7]\n",
      "attack in progress 5 [7]\n",
      "attack in progress 5 [7]\n",
      "attack in progress 5 [7]\n",
      "attack in progress 5 [7]\n",
      "attack in progress 5 [7]\n",
      "attack in progress 5 [7]\n",
      "attack in progress 5 [7]\n",
      "attack in progress 5 [7]\n",
      "attack in progress 5 [7]\n",
      "attack in progress 5 [7]\n",
      "attack in progress 5 [7]\n",
      "attack in progress 5 [7]\n",
      "attack in progress 5 [7]\n",
      "attack in progress 5 [7]\n",
      "attack in progress 5 [7]\n",
      "attack in progress 5 [7]\n"
     ]
    },
    {
     "data": {
      "image/png": "[encoded data removed]",
      "text/plain": [
       "<Figure size 432x288 with 2 Axes>"
      ]
     },
     "metadata": {
      "needs_background": "light"
     },
     "output_type": "display_data"
    }
   ],
   "source": [
    "LR = 0.07\n",
    "NUM_STEPS = 100\n",
    "PROJ_ORD = np.inf\n",
    "EPSILON = 0.07\n",
    "ORD = 2\n",
    "CONST = 1\n",
    "\n",
    "attack = CarliniWagner(sess, ff_module, num_steps=NUM_STEPS,\n",
    "                        proj_ord=PROJ_ORD, epsilon=EPSILON,\n",
    "                        ord=ORD, const=CONST, data_interval=[-1.,1.],\n",
    "                        learning_rate=LR, input_shape=input_shape, n_classes=n_classes)\n",
    "\n",
    "adv = attack.run(x_orig[0], y_orig[0])\n",
    "\n",
    "plot_imgs([x_orig, adv], 1, 2)"
   ]
  },
  {
   "cell_type": "code",
   "execution_count": null,
   "metadata": {},
   "outputs": [],
   "source": []
  }
 ],
 "metadata": {
  "kernelspec": {
   "display_name": "Python 3",
   "language": "python",
   "name": "python3"
  },
  "language_info": {
   "codemirror_mode": {
    "name": "ipython",
    "version": 3
   },
   "file_extension": ".py",
   "mimetype": "text/x-python",
   "name": "python",
   "nbconvert_exporter": "python",
   "pygments_lexer": "ipython3",
   "version": "3.5.2"
  }
 },
 "nbformat": 4,
 "nbformat_minor": 4
}
