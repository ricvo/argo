{
 "cells": [
  {
   "cell_type": "code",
   "execution_count": 1,
   "metadata": {},
   "outputs": [
    {
     "name": "stderr",
     "output_type": "stream",
     "text": [
      "/data1/env/tf1.12.0/lib/python3.6/site-packages/tensorflow/python/util/tf_inspect.py:75: DeprecationWarning: inspect.getargspec() is deprecated, use inspect.signature() or inspect.getfullargspec()\n",
      "  return _inspect.getargspec(target)\n"
     ]
    }
   ],
   "source": [
    "import tensorflow as tf\n",
    "\n",
    "import numpy as np\n",
    "from matplotlib import pyplot as plt \n",
    "\n",
    "from datasets.Dataset import Dataset\n",
    "from core.argo.core.ArgoLauncher import ArgoLauncher\n",
    "from core.argo.core.TFDeepLearningModel import load_model, load_network\n",
    "from core.argo.core.utils.argo_utils import load_class\n",
    "from core.transform.transform import get_transform_module, check_dataset_shapes"
   ]
  },
  {
   "cell_type": "code",
   "execution_count": 2,
   "metadata": {},
   "outputs": [
    {
     "data": {
      "text/plain": [
       "[<matplotlib.lines.Line2D at 0x7f3cd03657b8>]"
      ]
     },
     "execution_count": 2,
     "metadata": {},
     "output_type": "execute_result"
    },
    {
     "data": {
      "image/png": "[encoded data removed]",
      "text/plain": [
       "<Figure size 432x288 with 1 Axes>"
      ]
     },
     "metadata": {
      "needs_background": "light"
     },
     "output_type": "display_data"
    }
   ],
   "source": [
    "plt.plot(np.arange(10))"
   ]
  },
  {
   "cell_type": "code",
   "execution_count": 3,
   "metadata": {},
   "outputs": [],
   "source": [
    "tf.set_random_seed(1000)\n",
    "\n",
    "tf.reset_default_graph()\n",
    "\n",
    "import os\n",
    "os.environ[\"CUDA_DEVICE_ORDER\"]=\"PCI_BUS_ID\"\n",
    "os.environ[\"CUDA_VISIBLE_DEVICES\"]='1'\n",
    "sess_config = tf.ConfigProto()\n",
    "sess_config.gpu_options.allow_growth=True\n",
    "sess = tf.Session(config = sess_config)"
   ]
  },
  {
   "cell_type": "code",
   "execution_count": 4,
   "metadata": {},
   "outputs": [],
   "source": [
    "# ffconffile = '/home/luigi/adversarial/prediction/temp/MNIST-c-st0/FF_st0-stp0-st0-stp0-re0.0001-bs32-trGD_lr0.05-cNo-D200_D200_D10-aR-wix-bic0.1-r0/experiment.conf'\n",
    "# ffconffile = '/data/ironman_hd1/FashionMNIST-st0/FF_st0-stp0-re0.0-bs32-trA_lr0.001_bo0.9_bt0.999-C32o3-3_C32o3-3_D200_D10-arelu-wix-bic0.1-r0/experiment.conf'\n",
    "# NB i saved the model every 20 epochs\n",
    "# 34360 # 68720 # 103080\n",
    "#ff_global_step = 68720\n",
    "ffconffile = \"/data/wonderwoman_hd3/adversarial_small/prediction/FashionMNIST-st0/FF-cCE-st2-stp0.1-bs32-trA_lrm1e-07E.i0.0001.s10000.0.r0.99_bo0.9_bt0.999-cGN100.0-nCNo64,64k3,3s2,2_D200_D10-cpS-aR-wign-bic10.0-wrLtwo0.001-r1/experiment.conf\"\n",
    "ff_global_step = None\n",
    "\n",
    "# autoencconffile = '/home/luigi/adversarial/vae/temp/MNIST-c-st0/VAE-cELBO_b1.0_wuW5-d0-st1-stp0.01-re1e-05-bs128-trA_lr0.0001_bo0.9_bt0.999-cGN3-e_D200_D200_GDd-d_D200_D200_GD01d.scT-cpS-aE-wix-bic0.1-r0/experiment.conf'\n",
    "# autoencconffile = '/data/ironman_hd1/FashionMNIST-st0/VAE-cELBO_b1.0_wuW5-st1-stp0.01-d0-re1e-05-bs32-trA_lr0.001_bo0.9_bt0.999-e_CN-o256-512-1024k3-3s2-2-1_GDd64-d_D50176_BR_CNT-o512-256-1k3-3s1-2-2_LNDd-cpS-arelu-wix-bic0.1-r0/experiment.conf'\n",
    "autoencconffile = \"/data/wonderwoman_hd3/adversarial_small/vae/FashionMNIST-st0/VAE-cELBO_b1.0_wuW5-s10-d1-st2-stp0.1-bs32-trA_lrm1e-07E.i1e-04.s1e+04.r0.99_bo0.9_bt0.999-cGN100.0-ne_CNo32,32k3,3s2,2_GDd32-nd_D1568_BR_CNTo32,1k3,3s2,2_GDd-mc0.0001-cpS-aR-wign-bic10.0-wrLtwo1e-05-r0/experiment.conf\"\n",
    "ae_global_step = None  # \n"
   ]
  },
  {
   "cell_type": "code",
   "execution_count": 5,
   "metadata": {},
   "outputs": [],
   "source": [
    "is_training = False"
   ]
  },
  {
   "cell_type": "code",
   "execution_count": 6,
   "metadata": {},
   "outputs": [
    {
     "name": "stdout",
     "output_type": "stream",
     "text": [
      "WARNING:tensorflow:From /home/ricvo/adversarial/datasets/FashionMNIST.py:159: read_data_sets (from tensorflow.contrib.learn.python.learn.datasets.mnist) is deprecated and will be removed in a future version.\n",
      "Instructions for updating:\n",
      "Please use alternatives such as official/mnist/dataset.py from tensorflow/models.\n",
      " From /home/ricvo/adversarial/datasets/FashionMNIST.py:159: read_data_sets (from tensorflow.contrib.learn.python.learn.datasets.mnist) is deprecated and will be removed in a future version.\n",
      "Instructions for updating:\n",
      "Please use alternatives such as official/mnist/dataset.py from tensorflow/models.\n",
      "WARNING:tensorflow:From /data1/env/tf1.12.0/lib/python3.6/site-packages/tensorflow/contrib/learn/python/learn/datasets/mnist.py:260: maybe_download (from tensorflow.contrib.learn.python.learn.datasets.base) is deprecated and will be removed in a future version.\n",
      "Instructions for updating:\n",
      "Please write your own downloading logic.\n",
      " From /data1/env/tf1.12.0/lib/python3.6/site-packages/tensorflow/contrib/learn/python/learn/datasets/mnist.py:260: maybe_download (from tensorflow.contrib.learn.python.learn.datasets.base) is deprecated and will be removed in a future version.\n",
      "Instructions for updating:\n",
      "Please write your own downloading logic.\n",
      "WARNING:tensorflow:From /data1/env/tf1.12.0/lib/python3.6/site-packages/tensorflow/contrib/learn/python/learn/datasets/mnist.py:262: extract_images (from tensorflow.contrib.learn.python.learn.datasets.mnist) is deprecated and will be removed in a future version.\n",
      "Instructions for updating:\n",
      "Please use tf.data to implement this functionality.\n",
      " From /data1/env/tf1.12.0/lib/python3.6/site-packages/tensorflow/contrib/learn/python/learn/datasets/mnist.py:262: extract_images (from tensorflow.contrib.learn.python.learn.datasets.mnist) is deprecated and will be removed in a future version.\n",
      "Instructions for updating:\n",
      "Please use tf.data to implement this functionality.\n",
      "Extracting /ssd_data/datasets/fashionMNIST/train-images-idx3-ubyte.gz\n",
      "WARNING:tensorflow:From /data1/env/tf1.12.0/lib/python3.6/site-packages/tensorflow/contrib/learn/python/learn/datasets/mnist.py:267: extract_labels (from tensorflow.contrib.learn.python.learn.datasets.mnist) is deprecated and will be removed in a future version.\n",
      "Instructions for updating:\n",
      "Please use tf.data to implement this functionality.\n",
      " From /data1/env/tf1.12.0/lib/python3.6/site-packages/tensorflow/contrib/learn/python/learn/datasets/mnist.py:267: extract_labels (from tensorflow.contrib.learn.python.learn.datasets.mnist) is deprecated and will be removed in a future version.\n",
      "Instructions for updating:\n",
      "Please use tf.data to implement this functionality.\n",
      "Extracting /ssd_data/datasets/fashionMNIST/train-labels-idx1-ubyte.gz\n",
      "Extracting /ssd_data/datasets/fashionMNIST/t10k-images-idx3-ubyte.gz\n",
      "Extracting /ssd_data/datasets/fashionMNIST/t10k-labels-idx1-ubyte.gz\n",
      "WARNING:tensorflow:From /data1/env/tf1.12.0/lib/python3.6/site-packages/tensorflow/contrib/learn/python/learn/datasets/mnist.py:290: DataSet.__init__ (from tensorflow.contrib.learn.python.learn.datasets.mnist) is deprecated and will be removed in a future version.\n",
      "Instructions for updating:\n",
      "Please use alternatives such as official/mnist/dataset.py from tensorflow/models.\n",
      " From /data1/env/tf1.12.0/lib/python3.6/site-packages/tensorflow/contrib/learn/python/learn/datasets/mnist.py:290: DataSet.__init__ (from tensorflow.contrib.learn.python.learn.datasets.mnist) is deprecated and will be removed in a future version.\n",
      "Instructions for updating:\n",
      "Please use alternatives such as official/mnist/dataset.py from tensorflow/models.\n"
     ]
    }
   ],
   "source": [
    "ff_dataset_conf, ff_model_parameters, ff_config = ArgoLauncher.process_conf_file(ffconffile)\n",
    "ff_dataset = Dataset.load_dataset(ff_dataset_conf)\n",
    "_x_shape = ff_dataset.x_shape_eval\n",
    "\n",
    "full_class_path = \"prediction.core.\" + ff_model_parameters[\"model\"]\n",
    "prediction_model_class = load_class(full_class_path)\n",
    "\n",
    "ff_network, ff_checkpoint_name = load_network(prediction_model_class, ffconffile, global_step=ff_global_step)\n",
    "x_shape = (None,) + _x_shape\n",
    "\n",
    "dummy_x = tf.placeholder(tf.float32, shape=x_shape, name='dummy_input')\n"
   ]
  },
  {
   "cell_type": "code",
   "execution_count": 7,
   "metadata": {},
   "outputs": [
    {
     "name": "stdout",
     "output_type": "stream",
     "text": [
      "Parsing network network...\n",
      " Loading sonnet module ConvNet2D\n",
      " Loading sonnet module BatchFlatten\n",
      " Loading sonnet module Linear\n",
      " Loading sonnet module Linear\n",
      "INFO:tensorflow:Restoring parameters from /data/wonderwoman_hd3/adversarial_small/prediction/FashionMNIST-st0/FF-cCE-st2-stp0.1-bs32-trA_lrm1e-07E.i0.0001.s10000.0.r0.99_bo0.9_bt0.999-cGN100.0-nCNo64,64k3,3s2,2_D200_D10-cpS-aR-wign-bic10.0-wrLtwo0.001-r1/saved_models/model.ckpt-517118\n",
      " Restoring parameters from /data/wonderwoman_hd3/adversarial_small/prediction/FashionMNIST-st0/FF-cCE-st2-stp0.1-bs32-trA_lrm1e-07E.i0.0001.s10000.0.r0.99_bo0.9_bt0.999-cGN100.0-nCNo64,64k3,3s2,2_D200_D10-cpS-aR-wign-bic10.0-wrLtwo0.001-r1/saved_models/model.ckpt-517118\n"
     ]
    }
   ],
   "source": [
    "# LOAD FF NETWORK\n",
    "dummy_logits = ff_network(dummy_x, is_training = is_training)\n",
    "ff_network.restore(sess, ff_checkpoint_name)\n",
    "\n",
    "# CALLABLE\n",
    "ff_module = ff_network.module\n"
   ]
  },
  {
   "cell_type": "code",
   "execution_count": null,
   "metadata": {},
   "outputs": [],
   "source": []
  },
  {
   "cell_type": "code",
   "execution_count": 8,
   "metadata": {},
   "outputs": [
    {
     "name": "stdout",
     "output_type": "stream",
     "text": [
      "Extracting /ssd_data/datasets/fashionMNIST/train-images-idx3-ubyte.gz\n",
      "Extracting /ssd_data/datasets/fashionMNIST/train-labels-idx1-ubyte.gz\n",
      "Extracting /ssd_data/datasets/fashionMNIST/t10k-images-idx3-ubyte.gz\n",
      "Extracting /ssd_data/datasets/fashionMNIST/t10k-labels-idx1-ubyte.gz\n",
      "Parsing encoder network...\n",
      " Loading sonnet module ConvNet2D\n",
      " Loading sonnet module BatchFlatten\n",
      " Loading sonnet module Linear\n",
      "Parsing decoder network...\n",
      " Loading sonnet module Linear\n",
      " Loading sonnet module BatchReshape\n",
      " Loading sonnet module ConvNet2DTranspose\n",
      "WARNING:tensorflow:`use_batch_norm` kwarg is deprecated. Change your code to instead specify `normalization_ctor` and `normalization_kwargs`.\n",
      " `use_batch_norm` kwarg is deprecated. Change your code to instead specify `normalization_ctor` and `normalization_kwargs`.\n",
      " Loading sonnet module BatchFlatten\n",
      " Loading sonnet module GaussianDiagonal\n"
     ]
    },
    {
     "name": "stderr",
     "output_type": "stream",
     "text": [
      "/data1/env/tf1.12.0/lib/python3.6/importlib/_bootstrap.py:219: ImportWarning: can't resolve package from __spec__ or __package__, falling back on __name__ and __path__\n",
      "  return f(*args, **kwds)\n",
      "/data1/env/tf1.12.0/lib/python3.6/importlib/_bootstrap.py:219: ImportWarning: can't resolve package from __spec__ or __package__, falling back on __name__ and __path__\n",
      "  return f(*args, **kwds)\n"
     ]
    },
    {
     "name": "stdout",
     "output_type": "stream",
     "text": [
      " Loading sonnet module Linear\n",
      " Loading sonnet module Linear\n",
      "INFO:tensorflow:Restoring parameters from /data/wonderwoman_hd3/adversarial_small/ae/FashionMNIST-st0/AE-cLL-d1-st2-stp0.1-bs32-trA_lrm1e-07E.i1e-04.s1e+04.r0.99_bo0.9_bt0.999-cGN100.0-ne_CNo32,32k3,3s2,2_D32-nd_D1568_BR_CNTo32,1k3,3s2,2_GDd-mc0.0001-cpS-aR-wign-bic10.0-wrLtwo1e-05-r0/saved_models/model.ckpt-517118\n",
      " Restoring parameters from /data/wonderwoman_hd3/adversarial_small/ae/FashionMNIST-st0/AE-cLL-d1-st2-stp0.1-bs32-trA_lrm1e-07E.i1e-04.s1e+04.r0.99_bo0.9_bt0.999-cGN100.0-ne_CNo32,32k3,3s2,2_D32-nd_D1568_BR_CNTo32,1k3,3s2,2_GDd-mc0.0001-cpS-aR-wign-bic10.0-wrLtwo1e-05-r0/saved_models/model.ckpt-517118\n"
     ]
    }
   ],
   "source": [
    "# transform_tuple = (\"vae\", {\"conf_file\" : \"/data/wonderwoman_hd3/adversarial_small/vae/FashionMNIST-st0/VAE-cELBO_b1.0_wuW5-s10-d1-st2-stp0.1-bs32-trA_lrm1e-07E.i1e-04.s1e+04.r0.99_bo0.9_bt0.999-cGN100.0-ne_CNo32,32k3,3s2,2_GDd32-nd_D1568_BR_CNTo32,1k3,3s2,2_GDd-mc0.0001-cpS-aR-wign-bic10.0-wrLtwo1e-05-r0/experiment.conf\",\n",
    "#                        \"global_step\" : None,\n",
    "#                        \"sample_hid\" : False,\n",
    "#                        \"sample_vis\" : False,\n",
    "#                        \"z_std_scale\" : 1.})\n",
    "\n",
    "transform_tuple = (\"ae\", {\"conf_file\" : \"/data/wonderwoman_hd3/adversarial_small/ae/FashionMNIST-st0/AE-cLL-d1-st2-stp0.1-bs32-trA_lrm1e-07E.i1e-04.s1e+04.r0.99_bo0.9_bt0.999-cGN100.0-ne_CNo32,32k3,3s2,2_D32-nd_D1568_BR_CNTo32,1k3,3s2,2_GDd-mc0.0001-cpS-aR-wign-bic10.0-wrLtwo1e-05-r0/experiment.conf\",\n",
    "                       \"global_step\" : None,\n",
    "                       \"sample_vis\" : False}\n",
    "                  )\n",
    "\n",
    "\n",
    "transform_name, transform_kwargs = transform_tuple\n",
    "transform_kwargs.update(\n",
    "    {\n",
    "        \"dummy_x\": dummy_x,\n",
    "        \"sess\" : sess,\n",
    "        \"is_training\" : is_training\n",
    "    }\n",
    ")\n",
    "\n",
    "transform_module = get_transform_module(transform_name, transform_kwargs)\n",
    "\n"
   ]
  },
  {
   "cell_type": "code",
   "execution_count": 9,
   "metadata": {},
   "outputs": [
    {
     "name": "stdout",
     "output_type": "stream",
     "text": [
      "next batch of input x: Tensor(\"IteratorGetNext:0\", shape=(?, 28, 28, 1), dtype=float32)\n",
      "next batch of labels y: Tensor(\"Cast:0\", shape=(?,), dtype=int32)\n"
     ]
    },
    {
     "name": "stderr",
     "output_type": "stream",
     "text": [
      "/data1/env/tf1.12.0/lib/python3.6/site-packages/tensorflow/python/util/tf_inspect.py:75: DeprecationWarning: inspect.getargspec() is deprecated, use inspect.signature() or inspect.getfullargspec()\n",
      "  return _inspect.getargspec(target)\n",
      "/data1/env/tf1.12.0/lib/python3.6/site-packages/tensorflow/python/util/tf_inspect.py:75: DeprecationWarning: inspect.getargspec() is deprecated, use inspect.signature() or inspect.getfullargspec()\n",
      "  return _inspect.getargspec(target)\n"
     ]
    }
   ],
   "source": [
    "#THIS IS HOW YOU GET THE DATASET ITERATOR\n",
    "DATASET = \"test\"\n",
    "dataset = ff_dataset\n",
    "\n",
    "iterator, is_perturbed = dataset.get_dataset_iterator(\n",
    "                                    batch_size = 1, \n",
    "                                    dataset_str = DATASET,\n",
    "                                    shuffle = False,\n",
    "                                    repeat = False,\n",
    "                                    augment = False)\n",
    "\n",
    "# x_singleimg = tf.placeholder(tf.float32, input_shape)\n",
    "# x = tf.expand_dims(x_singleimg, axis=0)\n",
    "# y = tf.placeholder(tf.int64, shape = ())\n",
    "x, y = iterator.get_next()\n",
    "y = tf.cast(y, tf.int32)\n",
    "ds_initializer = iterator.initializer\n",
    "print(\"next batch of input x:\", x)\n",
    "print(\"next batch of labels y:\", y)\n"
   ]
  },
  {
   "cell_type": "code",
   "execution_count": 10,
   "metadata": {},
   "outputs": [
    {
     "name": "stdout",
     "output_type": "stream",
     "text": [
      "Parsing network network...\n",
      " Loading sonnet module ConvNet2D\n",
      " Loading sonnet module BatchFlatten\n",
      " Loading sonnet module Linear\n",
      " Loading sonnet module Linear\n",
      "Parsing encoder network...\n",
      " Loading sonnet module ConvNet2D\n",
      " Loading sonnet module BatchFlatten\n",
      " Loading sonnet module Linear\n",
      "Parsing decoder network...\n",
      " Loading sonnet module Linear\n",
      " Loading sonnet module BatchReshape\n",
      " Loading sonnet module ConvNet2DTranspose\n",
      " Loading sonnet module BatchFlatten\n",
      " Loading sonnet module GaussianDiagonal\n",
      " Loading sonnet module Linear\n",
      " Loading sonnet module Linear\n",
      "Parsing network network...\n",
      " Loading sonnet module ConvNet2D\n",
      " Loading sonnet module BatchFlatten\n",
      " Loading sonnet module Linear\n",
      " Loading sonnet module Linear\n",
      "Tensor(\"network/linear_1/add:0\", shape=(?, 10), dtype=float32) Tensor(\"ArgMax_2:0\", shape=(?,), dtype=int32)\n"
     ]
    }
   ],
   "source": [
    "logits = ff_module(x)\n",
    "x_transf = transform_module(x)\n",
    "logits_transf = ff_module(x_transf)\n",
    "\n",
    "accuracy = 100. * tf.reduce_mean(tf.cast(\n",
    "                   tf.equal(tf.argmax(logits, axis = 1),\n",
    "                         tf.cast(y, dtype = tf.int64)),\n",
    "                         dtype = tf.float32))\n",
    "\n",
    "accuracy_transf = 100. * tf.reduce_mean(tf.cast(\n",
    "                   tf.equal(tf.argmax(logits_transf, axis = 1),\n",
    "                         tf.cast(y, dtype = tf.int64)),\n",
    "                         dtype = tf.float32))\n",
    "\n",
    "preds = tf.argmax(logits, axis=1, output_type=tf.int32)\n",
    "preds_transf = tf.argmax(logits_transf, axis=1, output_type=tf.int32)\n",
    "print(logits, preds)\n",
    "\n",
    "probs = tf.nn.softmax(logits)\n",
    "correct = tf.equal(preds, y)\n",
    "\n",
    "probs_transf = tf.nn.softmax(logits_transf)\n",
    "correct_transf = tf.equal(preds_transf, y)"
   ]
  },
  {
   "cell_type": "code",
   "execution_count": 11,
   "metadata": {},
   "outputs": [
    {
     "name": "stdout",
     "output_type": "stream",
     "text": [
      "(28, 28, 1) 10\n"
     ]
    }
   ],
   "source": [
    "input_shape = dataset.x_shape\n",
    "n_classes = dataset.n_labels\n",
    "print(input_shape, n_classes)"
   ]
  },
  {
   "cell_type": "code",
   "execution_count": 12,
   "metadata": {},
   "outputs": [
    {
     "name": "stdout",
     "output_type": "stream",
     "text": [
      "(1, 28, 28, 1) (1,)\n",
      "[9]\n"
     ]
    }
   ],
   "source": [
    "#THIS IS HOW YOU READ IN SEQUENCE\n",
    "sess.run(ds_initializer)\n",
    "x_np, y_np = sess.run([x,y])\n",
    "print(x_np.shape, y_np.shape)\n",
    "print(y_np)"
   ]
  },
  {
   "cell_type": "markdown",
   "metadata": {},
   "source": [
    "# Classifier"
   ]
  },
  {
   "cell_type": "code",
   "execution_count": null,
   "metadata": {},
   "outputs": [],
   "source": []
  },
  {
   "cell_type": "code",
   "execution_count": 13,
   "metadata": {},
   "outputs": [],
   "source": [
    "\n",
    "def get_cmap(img):\n",
    "    ch = None\n",
    "    if len(img.shape) == 3:\n",
    "        ch = 2\n",
    "    elif len(img.shape) == 4:\n",
    "        ch = 3\n",
    "    else:\n",
    "        raise Exception(\"expeting either a 3D or a 4D tensor\")\n",
    "    \n",
    "    channels = img.shape[ch]\n",
    "    if channels==3:\n",
    "        cmap = 'rgb'\n",
    "    elif channels==1:\n",
    "        cmap = 'gray'\n",
    "    else:\n",
    "        raise Exception(\"image channel value not valid\")\n",
    "    return cmap\n",
    "\n",
    "def classify(img, inputs, probs, correct_class=None, target_class=None):\n",
    "    if img.shape[0]!=1:\n",
    "        raise Exception(\"expected a batch of a single image, received shape: %s\"%img.shape)\n",
    "    \n",
    "    fig, (ax1, ax2) = plt.subplots(1, 2, figsize=(10, 8))\n",
    "    fig.sca(ax1)\n",
    "    p = sess.run(probs, feed_dict={inputs: img})[0]\n",
    "    \n",
    "    cmap = get_cmap(img)\n",
    "    ax1.imshow(np.squeeze(img), cmap = cmap)\n",
    "    fig.sca(ax1)\n",
    "\n",
    "    topk = list(p.argsort()[-10:][::-1])\n",
    "    topprobs = p[topk]\n",
    "    barlist = ax2.bar(range(10), topprobs)\n",
    "    if target_class in topk:\n",
    "        barlist[topk.index(target_class)].set_color('r')\n",
    "    if correct_class in topk:\n",
    "        barlist[topk.index(correct_class)].set_color('g')\n",
    "    plt.sca(ax2)\n",
    "    plt.ylim([0, 1.1])\n",
    "    plt.xticks(range(10),\n",
    "               [dataset.label_to_name(i)[:15] for i in topk],\n",
    "               rotation='vertical')\n",
    "    fig.subplots_adjust(bottom=0.2)\n",
    "    plt.show()\n",
    "\n",
    "def classify_transf(img, inputs, inputs_transf, probs, correct_class=None, target_class=None):\n",
    "    if img.shape[0]!=1:\n",
    "        raise Exception(\"expected a batch of a single image, received shape: %s\"%img.shape)\n",
    "    \n",
    "    fig, (ax1, ax2, ax3) = plt.subplots(1, 3, figsize=(10, 8))\n",
    "    fig.sca(ax1)\n",
    "    p, img_transf = sess.run([probs, inputs_transf], feed_dict={inputs: img})\n",
    "    p = p[0]\n",
    "    \n",
    "    cmap = get_cmap(img)\n",
    "\n",
    "    ax1.imshow(np.squeeze(img), cmap = cmap)\n",
    "    fig.sca(ax1)\n",
    "    ax2.imshow(np.squeeze(img_transf), cmap = cmap)\n",
    "    fig.sca(ax2)\n",
    "\n",
    "    topk = list(p.argsort()[-10:][::-1])\n",
    "    topprobs = p[topk]\n",
    "    barlist = ax3.bar(range(10), topprobs)\n",
    "    if target_class in topk:\n",
    "        barlist[topk.index(target_class)].set_color('r')\n",
    "    if correct_class in topk:\n",
    "        barlist[topk.index(correct_class)].set_color('g')\n",
    "    plt.sca(ax3)\n",
    "    plt.ylim([0, 1.1])\n",
    "    plt.xticks(range(10),\n",
    "               [dataset.label_to_name(i)[:15] for i in topk],\n",
    "               rotation='vertical')\n",
    "    fig.subplots_adjust(bottom=0.2)\n",
    "    plt.show()\n",
    "\n",
    "\n",
    "def plot_imgs(imgs, rows, cols):\n",
    "    f, axarr = plt.subplots(rows, cols)\n",
    "    axarr = axarr.reshape(rows,cols)\n",
    "    cmap = get_cmap(imgs[0])\n",
    "    for i in range(rows):\n",
    "        for j in range(cols):\n",
    "            axarr[i,j].imshow(np.squeeze(imgs[i*cols+j]), cmap = cmap)\n"
   ]
  },
  {
   "cell_type": "code",
   "execution_count": 14,
   "metadata": {},
   "outputs": [
    {
     "name": "stderr",
     "output_type": "stream",
     "text": [
      "/data1/env/tf1.12.0/lib/python3.6/site-packages/matplotlib/figure.py:445: UserWarning: Matplotlib is currently using agg, which is a non-GUI backend, so cannot show the figure.\n",
      "  % get_backend())\n"
     ]
    },
    {
     "data": {
      "image/png": "[encoded data removed]",
      "text/plain": [
       "<Figure size 720x576 with 2 Axes>"
      ]
     },
     "metadata": {
      "needs_background": "light"
     },
     "output_type": "display_data"
    }
   ],
   "source": [
    "classify(dataset.get_raw_elements(DATASET, [33]), x, probs)"
   ]
  },
  {
   "cell_type": "code",
   "execution_count": 15,
   "metadata": {},
   "outputs": [
    {
     "name": "stderr",
     "output_type": "stream",
     "text": [
      "/data1/env/tf1.12.0/lib/python3.6/site-packages/matplotlib/figure.py:445: UserWarning: Matplotlib is currently using agg, which is a non-GUI backend, so cannot show the figure.\n",
      "  % get_backend())\n"
     ]
    },
    {
     "data": {
      "image/png": "[encoded data removed]",
      "text/plain": [
       "<Figure size 720x576 with 3 Axes>"
      ]
     },
     "metadata": {
      "needs_background": "light"
     },
     "output_type": "display_data"
    }
   ],
   "source": [
    "classify_transf(dataset.get_raw_elements(DATASET, [33]), x, x_transf, probs_transf)"
   ]
  },
  {
   "cell_type": "code",
   "execution_count": 17,
   "metadata": {},
   "outputs": [
    {
     "data": {
      "text/plain": [
       "-1.097722"
      ]
     },
     "execution_count": 17,
     "metadata": {},
     "output_type": "execute_result"
    }
   ],
   "source": [
    "np.min(sess.run(x_transf))"
   ]
  },
  {
   "cell_type": "code",
   "execution_count": null,
   "metadata": {},
   "outputs": [],
   "source": []
  }
 ],
 "metadata": {
  "kernelspec": {
   "display_name": "Python 3",
   "language": "python",
   "name": "python3"
  },
  "language_info": {
   "codemirror_mode": {
    "name": "ipython",
    "version": 3
   },
   "file_extension": ".py",
   "mimetype": "text/x-python",
   "name": "python",
   "nbconvert_exporter": "python",
   "pygments_lexer": "ipython3",
   "version": "3.6.5"
  }
 },
 "nbformat": 4,
 "nbformat_minor": 2
}
