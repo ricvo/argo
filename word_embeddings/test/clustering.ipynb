{
 "cells": [
  {
   "cell_type": "code",
   "execution_count": 38,
   "metadata": {},
   "outputs": [],
   "source": [
    "from word_embedding.test.core.load_embeddings import load_pretrained_glove, load_pretrained_w2v, normalize_cols_numexpr, load_w2v\n",
    "from word_embedding.test.core.measures import center_and_normalize_riemannian\n",
    "import pandas as pd\n",
    "import numpy as np\n",
    "import sklearn\n",
    "from sklearn import metrics\n",
    "from itertools import islice\n",
    "from word_embedding.test.core.clustering.utils import load_csv_into_dict, get_indices, preprocess_clusters, purity_score, silhouette\n",
    "from functools import partial"
   ]
  },
  {
   "cell_type": "code",
   "execution_count": 39,
   "metadata": {},
   "outputs": [
    {
     "name": "stdout",
     "output_type": "stream",
     "text": [
      "0.9725219957734033 -4.524941615775392 0.3925777761729583 -0.20708426308858172\n",
      "2.0436460175048707 -3.6667523245700258 2.980184627897331 -3.1185886972602503\n"
     ]
    },
    {
     "data": {
      "image/png": "[encoded data removed]",
      "text/plain": [
       "<Figure size 432x288 with 1 Axes>"
      ]
     },
     "metadata": {
      "needs_background": "light"
     },
     "output_type": "display_data"
    }
   ],
   "source": [
    "# random 2D points\n",
    "import matplotlib.pyplot as plt\n",
    "import sklearn\n",
    "# data = np.random.uniform(0, 1, (300, 2)) * np.array([0.1, 7])\n",
    "plt.xlim(-3,3)\n",
    "plt.ylim(-3,3)\n",
    "\n",
    "data = np.random.normal(size=(300, 2)) * np.array([1, 0.1]) + np.array([-1, 0.1])\n",
    "x, y = zip(*data)\n",
    "plt.scatter(x, y)\n",
    "print(np.max(x), np.min(x), np.max(y), np.min(y))\n",
    "\n",
    "data = sklearn.preprocessing.scale(data)\n",
    "x, y = zip(*data)\n",
    "plt.scatter(x, y)\n",
    "print(np.max(x), np.min(x), np.max(y), np.min(y))\n"
   ]
  },
  {
   "cell_type": "code",
   "execution_count": 40,
   "metadata": {},
   "outputs": [],
   "source": [
    "# dictionary, vecs = load_pretrained_glove(\"commoncrawl42B\") # \"commoncrawl840B\"\n",
    "# dictionary, vecs = load_pretrained_glove(\"wikigiga5\")\n",
    "# dictionary, vecs = load_pretrained_w2v(\"googlenews\")\n",
    "\n",
    "dictionary, vecs = load_w2v(\"/data2/text/word_embeddings/word2vec/geb/word2vec-cbow-geb-m01000-v300-sw10-ns10-lr0.05-n50/word2vec-cbow-geb-m01000-v300-sw10-ns10-lr0.05-n50-vectors.txt\", 300)\n",
    "\n",
    "orig_embeddings = vecs['u'] + vecs['v']\n"
   ]
  },
  {
   "cell_type": "code",
   "execution_count": 41,
   "metadata": {},
   "outputs": [
    {
     "data": {
      "text/plain": [
       "(66193, 300)"
      ]
     },
     "execution_count": 41,
     "metadata": {},
     "output_type": "execute_result"
    }
   ],
   "source": [
    "vecs['v'].shape"
   ]
  },
  {
   "cell_type": "code",
   "execution_count": 42,
   "metadata": {},
   "outputs": [],
   "source": [
    "from sklearn.cluster import KMeans, AffinityPropagation"
   ]
  },
  {
   "cell_type": "code",
   "execution_count": 43,
   "metadata": {},
   "outputs": [
    {
     "name": "stdout",
     "output_type": "stream",
     "text": [
      "words in_dict/total: 72.93% (3815/5231)\n"
     ]
    }
   ],
   "source": [
    "# groups_filename = \"/data/captamerica_hd2/text/concept_categorization_datasets/ap.csv\"\n",
    "groups_filename = \"/data/captamerica_hd2/text/concept_categorization_datasets/battig.csv\"\n",
    "# groups_filename = \"/data/captamerica_hd2/text/concept_categorization_datasets/capitals.csv\"\n",
    "groups = load_csv_into_dict(groups_filename, dictionary)"
   ]
  },
  {
   "cell_type": "code",
   "execution_count": 44,
   "metadata": {},
   "outputs": [
    {
     "name": "stdout",
     "output_type": "stream",
     "text": [
      "56\n"
     ]
    }
   ],
   "source": [
    "ngroups = len(groups)\n",
    "print(ngroups)"
   ]
  },
  {
   "cell_type": "code",
   "execution_count": 45,
   "metadata": {},
   "outputs": [],
   "source": [
    "# embeddings = normalize_cols_numexpr(orig_embeddings-np.mean(orig_embeddings, axis=0))\n",
    "# embeddings = center_and_normalize_riemannian(orig_embeddings, np.eye(orig_embeddings.shape[1]))\n",
    "# embeddings = orig_embeddings/np.linalg.norm(orig_embeddings, axis=1).reshape(-1, 1)\n",
    "embeddings = orig_embeddings"
   ]
  },
  {
   "cell_type": "code",
   "execution_count": 46,
   "metadata": {},
   "outputs": [
    {
     "data": {
      "text/plain": [
       "(66193, 300)"
      ]
     },
     "execution_count": 46,
     "metadata": {},
     "output_type": "execute_result"
    }
   ],
   "source": [
    "embeddings.shape"
   ]
  },
  {
   "cell_type": "code",
   "execution_count": 47,
   "metadata": {},
   "outputs": [],
   "source": [
    "clusters = {g:embeddings[get_indices(dictionary, words)] for g, words in groups.items()}"
   ]
  },
  {
   "cell_type": "code",
   "execution_count": 48,
   "metadata": {},
   "outputs": [],
   "source": [
    "# # PREPROCESSING\n",
    "# clusters = preprocess_clusters(clusters)"
   ]
  },
  {
   "cell_type": "code",
   "execution_count": 49,
   "metadata": {},
   "outputs": [],
   "source": [
    "points_list, labels_list = zip(*[(clusters[g], [i]*clusters[g].shape[0]) for i,g in enumerate(clusters.keys())])\n",
    "\n",
    "clusters_points = np.concatenate(points_list, axis=0)\n",
    "labels = np.concatenate(labels_list, axis=0)"
   ]
  },
  {
   "cell_type": "code",
   "execution_count": 50,
   "metadata": {},
   "outputs": [
    {
     "data": {
      "text/plain": [
       "(3815, 300)"
      ]
     },
     "execution_count": 50,
     "metadata": {},
     "output_type": "execute_result"
    }
   ],
   "source": [
    "clusters_points.shape"
   ]
  },
  {
   "cell_type": "code",
   "execution_count": 51,
   "metadata": {},
   "outputs": [],
   "source": [
    "perm = np.random.permutation(clusters_points.shape[0])\n",
    "shuffled_clusters_points = clusters_points[perm]\n",
    "shuffled_labels = labels[perm]"
   ]
  },
  {
   "cell_type": "code",
   "execution_count": 52,
   "metadata": {},
   "outputs": [],
   "source": [
    "def print_scores(labels, predictions, clusters_points, dist_method):\n",
    "    distances = dist_method(clusters_points, clusters_points)\n",
    "    print(purity_score(labels, predictions),\n",
    "          metrics.homogeneity_score(labels, predictions),\n",
    "          metrics.completeness_score(labels, predictions),\n",
    "          sklearn.metrics.silhouette_score(distances, predictions, metric=\"precomputed\")\n",
    "          )"
   ]
  },
  {
   "cell_type": "code",
   "execution_count": 53,
   "metadata": {},
   "outputs": [],
   "source": [
    "import importlib\n",
    "import word_embedding\n",
    "importlib.reload(word_embedding)\n",
    "import word_embedding.test.core.clustering.KMeansSim\n",
    "importlib.reload(word_embedding.test.core.clustering.KMeansSim)\n",
    "import word_embedding.test.core.clustering.RepeatedBisectionSim\n",
    "importlib.reload(word_embedding.test.core.clustering.RepeatedBisectionSim)\n",
    "import word_embedding.test.core.clustering.utils\n",
    "importlib.reload(word_embedding.test.core.clustering.utils)\n",
    "\n",
    "from word_embedding.test.core.clustering.KMeansSim import KMeansSim\n",
    "from word_embedding.test.core.clustering.RepeatedBisectionSim import RepeatedBisectionSim\n",
    "\n",
    "from word_embedding.test.core.clustering.utils import cos_similarity, dist_on_sphere, riemannian_dist\n",
    "\n",
    "Id = np.eye(clusters_points.shape[1])\n",
    "\n",
    "N_INIT = 100\n",
    "TOL = 1e-10\n",
    "MAX_ITER = 1000"
   ]
  },
  {
   "cell_type": "code",
   "execution_count": 54,
   "metadata": {},
   "outputs": [
    {
     "data": {
      "text/plain": [
       "0.0018793642786831036"
      ]
     },
     "execution_count": 54,
     "metadata": {},
     "output_type": "execute_result"
    }
   ],
   "source": [
    "silhouette(clusters_points, labels, partial(dist_on_sphere, g_matrix=Id))"
   ]
  },
  {
   "cell_type": "code",
   "execution_count": 55,
   "metadata": {},
   "outputs": [
    {
     "data": {
      "text/plain": [
       "KMeans(algorithm='auto', copy_x=True, init='k-means++', max_iter=300,\n",
       "       n_clusters=56, n_init=100, n_jobs=None, precompute_distances='auto',\n",
       "       random_state=None, tol=1e-10, verbose=0)"
      ]
     },
     "execution_count": 55,
     "metadata": {},
     "output_type": "execute_result"
    }
   ],
   "source": [
    "kmeans = KMeans(n_clusters=ngroups, n_init=N_INIT, tol=TOL)\n",
    "kmeans.fit(shuffled_clusters_points)"
   ]
  },
  {
   "cell_type": "code",
   "execution_count": 56,
   "metadata": {},
   "outputs": [
    {
     "name": "stdout",
     "output_type": "stream",
     "text": [
      "0.49882044560943645 0.5620037640825458 0.5561738932548305 0.06055433362181918\n"
     ]
    }
   ],
   "source": [
    "print_scores(shuffled_labels, kmeans.labels_, shuffled_clusters_points, partial(dist_on_sphere, g_matrix=Id))"
   ]
  },
  {
   "cell_type": "code",
   "execution_count": 57,
   "metadata": {},
   "outputs": [],
   "source": [
    "kmeancos = KMeansSim(n_clusters=ngroups, g_matrix=Id, n_init=N_INIT)\n",
    "kmeancos.fit(shuffled_clusters_points)\n"
   ]
  },
  {
   "cell_type": "code",
   "execution_count": 58,
   "metadata": {},
   "outputs": [
    {
     "name": "stdout",
     "output_type": "stream",
     "text": [
      "0.4925294888597641 0.5588333612044702 0.5506290140660947 0.06628822026925724\n"
     ]
    }
   ],
   "source": [
    "print_scores(shuffled_labels, kmeancos.labels_, shuffled_clusters_points, partial(dist_on_sphere, g_matrix=Id))"
   ]
  },
  {
   "cell_type": "code",
   "execution_count": 59,
   "metadata": {},
   "outputs": [],
   "source": [
    "bisection_metric = 'agg'\n",
    "# bisection_metric = 'size'\n",
    "\n",
    "krbcos = RepeatedBisectionSim(n_clusters=ngroups, g_matrix=Id, n_init=N_INIT, bm=bisection_metric)\n",
    "krbcos.fit(shuffled_clusters_points)\n"
   ]
  },
  {
   "cell_type": "code",
   "execution_count": 60,
   "metadata": {},
   "outputs": [
    {
     "name": "stdout",
     "output_type": "stream",
     "text": [
      "0.5187418086500656 0.5697950861677299 0.553656279610123 0.06207970269030817\n"
     ]
    }
   ],
   "source": [
    "print_scores(shuffled_labels, krbcos.labels_, shuffled_clusters_points, partial(dist_on_sphere, g_matrix=Id))"
   ]
  },
  {
   "cell_type": "code",
   "execution_count": 61,
   "metadata": {},
   "outputs": [
    {
     "data": {
      "text/plain": [
       "SphericalKMeans(copy_x=True, init='k-means++', max_iter=1000, n_clusters=56,\n",
       "                n_init=100, n_jobs=1, normalize=True, random_state=None,\n",
       "                tol=1e-10, verbose=0)"
      ]
     },
     "execution_count": 61,
     "metadata": {},
     "output_type": "execute_result"
    }
   ],
   "source": [
    "from spherecluster import SphericalKMeans\n",
    "\n",
    "skm = SphericalKMeans(n_clusters=ngroups, n_init=N_INIT, tol=TOL, max_iter=MAX_ITER)\n",
    "skm.fit(shuffled_clusters_points)\n"
   ]
  },
  {
   "cell_type": "code",
   "execution_count": 62,
   "metadata": {},
   "outputs": [
    {
     "name": "stdout",
     "output_type": "stream",
     "text": [
      "0.5355176933158584 0.5821135539594028 0.5680836641754545 0.06871950210682501\n"
     ]
    }
   ],
   "source": [
    "print_scores(shuffled_labels, skm.labels_, shuffled_clusters_points, partial(dist_on_sphere, g_matrix=Id))"
   ]
  },
  {
   "cell_type": "code",
   "execution_count": null,
   "metadata": {},
   "outputs": [],
   "source": [
    "# movMF-soft\n",
    "from spherecluster import VonMisesFisherMixture\n",
    "vmf_soft = VonMisesFisherMixture(n_clusters=ngroups, n_init=N_INIT, posterior_type='soft', tol=TOL)\n",
    "vmf_soft.fit(shuffled_clusters_points)\n"
   ]
  },
  {
   "cell_type": "code",
   "execution_count": null,
   "metadata": {},
   "outputs": [],
   "source": [
    "print_scores(shuffled_labels, vmf_soft.labels_, shuffled_clusters_points, partial(dist_on_sphere, g_matrix=Id))"
   ]
  },
  {
   "cell_type": "code",
   "execution_count": null,
   "metadata": {},
   "outputs": [],
   "source": [
    "# movMF-hard\n",
    "from spherecluster import VonMisesFisherMixture\n",
    "vmf_hard = VonMisesFisherMixture(n_clusters=ngroups, n_init=N_INIT, posterior_type='hard', tol=TOL)\n",
    "vmf_hard.fit(shuffled_clusters_points)"
   ]
  },
  {
   "cell_type": "code",
   "execution_count": null,
   "metadata": {},
   "outputs": [],
   "source": [
    "print_scores(shuffled_labels, vmf_hard.labels_, shuffled_clusters_points, partial(dist_on_sphere, g_matrix=Id))"
   ]
  },
  {
   "cell_type": "code",
   "execution_count": null,
   "metadata": {},
   "outputs": [],
   "source": [
    "logreg = sklearn.linear_model.LogisticRegression(random_state=0, solver='lbfgs',\n",
    "                             multi_class='multinomial')\n",
    "logreg.fit(shuffled_clusters_points, shuffled_labels)\n"
   ]
  },
  {
   "cell_type": "code",
   "execution_count": null,
   "metadata": {},
   "outputs": [],
   "source": [
    "predictions = logreg.predict(clusters_points)\n"
   ]
  },
  {
   "cell_type": "code",
   "execution_count": null,
   "metadata": {},
   "outputs": [],
   "source": [
    "print_scores(labels, predictions, clusters_points, partial(dist_on_sphere, g_matrix=Id))"
   ]
  },
  {
   "cell_type": "code",
   "execution_count": null,
   "metadata": {},
   "outputs": [],
   "source": []
  },
  {
   "cell_type": "code",
   "execution_count": null,
   "metadata": {},
   "outputs": [],
   "source": []
  },
  {
   "cell_type": "code",
   "execution_count": null,
   "metadata": {},
   "outputs": [],
   "source": []
  },
  {
   "cell_type": "code",
   "execution_count": 51,
   "metadata": {},
   "outputs": [],
   "source": [
    "# from sklearn.decomposition import uniform# N_COMPONENTS = 2\n",
    "# pca = PCA(n_components=N_COMPONENTS)\n",
    "# cp_2d = pca.fit_transform(shuffled_clusters_points)\n",
    "\n",
    "# print(cp_2d.shape)\n",
    "\n",
    "# from matplotlib import pyplot as plt\n",
    "\n",
    "# colors = ['r', 'b']\n",
    "# markers = ['o', 'x']\n",
    "\n",
    "# cs = [colors[l] for l in shuffled_labels]\n",
    "# ms = [markers[l] for l in kmeans.labels_]\n",
    "# x, y = zip(*cp_2d)\n",
    "\n",
    "# for i in range(len(cs)):\n",
    "#     plt.scatter(x[i], y[i], marker=ms[i], color=cs[i])\n",
    "\n"
   ]
  },
  {
   "cell_type": "code",
   "execution_count": null,
   "metadata": {},
   "outputs": [],
   "source": []
  },
  {
   "cell_type": "code",
   "execution_count": null,
   "metadata": {},
   "outputs": [],
   "source": []
  }
 ],
 "metadata": {
  "kernelspec": {
   "display_name": "Python 3",
   "language": "python",
   "name": "python3"
  },
  "language_info": {
   "codemirror_mode": {
    "name": "ipython",
    "version": 3
   },
   "file_extension": ".py",
   "mimetype": "text/x-python",
   "name": "python",
   "nbconvert_exporter": "python",
   "pygments_lexer": "ipython3",
   "version": "3.6.7"
  }
 },
 "nbformat": 4,
 "nbformat_minor": 4
}
